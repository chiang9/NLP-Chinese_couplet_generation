{
 "cells": [
  {
   "cell_type": "code",
   "execution_count": 1,
   "id": "d3149685",
   "metadata": {
    "gradient": {
     "editing": false,
     "execution_count": 4,
     "id": "boolean-diving",
     "kernelId": "583276d5-8a0a-4f47-9ffe-672fe9cb301f"
    }
   },
   "outputs": [],
   "source": [
    "%%capture\n",
    "!pip install transformers\n",
    "!pip install pypinyin\n",
    "!pip install jieba\n",
    "!pip install paddlepaddle"
   ]
  },
  {
   "cell_type": "code",
   "execution_count": 3,
   "id": "bcb1308d",
   "metadata": {
    "gradient": {
     "editing": false,
     "execution_count": 1,
     "id": "metropolitan-times",
     "kernelId": "583276d5-8a0a-4f47-9ffe-672fe9cb301f"
    }
   },
   "outputs": [],
   "source": [
    "%%capture\n",
    "import re,time,json\n",
    "from collections import defaultdict\n",
    "from torch.utils.data import DataLoader\n",
    "from pypinyin import pinyin, Style\n",
    "from tqdm import tqdm\n",
    "import pickle\n",
    "\n",
    "import numpy as np\n",
    "import torch\n",
    "import torch.nn.functional as F\n",
    "import torch.nn as nn\n",
    "from copy import deepcopy\n",
    "\n",
    "from transformers import (BertTokenizer,BertConfig,BertModel)\n",
    "\n",
    "from model.Embedding import *\n",
    "from model.fusionDataset import FusionDataset\n",
    "\n",
    "import jieba\n",
    "import jieba.posseg as pseg\n",
    "import paddle\n",
    "\n",
    "config = BertConfig.from_pretrained('AnchiBERT')\n",
    "tokenizer = BertTokenizer.from_pretrained('AnchiBERT')\n",
    "Anchibert = BertModel.from_pretrained('AnchiBERT',config=config)\n",
    "device = torch.device(\"cuda:0\" if torch.cuda.is_available() else \"cpu\")"
   ]
  },
  {
   "cell_type": "markdown",
   "id": "a858088c",
   "metadata": {
    "gradient": {
     "editing": false,
     "id": "stable-checkout",
     "kernelId": "583276d5-8a0a-4f47-9ffe-672fe9cb301f"
    }
   },
   "source": [
    "### Load Necessary preproceeded Data"
   ]
  },
  {
   "cell_type": "code",
   "execution_count": 4,
   "id": "4dccb2e7",
   "metadata": {
    "gradient": {
     "editing": false,
     "execution_count": 2,
     "id": "funky-measurement",
     "kernelId": "583276d5-8a0a-4f47-9ffe-672fe9cb301f"
    }
   },
   "outputs": [],
   "source": [
    "with open('data/char_map.json','r') as f:\n",
    "    ix2glyph = defaultdict(lambda : '_')\n",
    "    ix2glyph[0] = '[PAD]'\n",
    "    glyph2ix = defaultdict(lambda : 1)\n",
    "    glyph2ix.update({'[CLS]':0,'[SEP]':0,'[PAD]':0})\n",
    "    for i, k in enumerate(json.load(f).keys(),2):\n",
    "        glyph2ix[k] = i\n",
    "        ix2glyph[i] = k\n",
    "with open('data/pinyin_map.json','r') as f:\n",
    "    pinyin2ix = defaultdict(lambda : 1)\n",
    "    pinyin2ix.update({'[CLS]':0,'[SEP]':0,'[PAD]':0})\n",
    "    for i,k in enumerate(json.load(f).keys(),2):\n",
    "        pinyin2ix[k] = i\n",
    "with open('data/pos_tags.json','r') as f:\n",
    "    pos2ix = defaultdict(lambda : 0)\n",
    "    pos2ix.update(json.load(f))"
   ]
  },
  {
   "cell_type": "code",
   "execution_count": 5,
   "id": "5593d9c6",
   "metadata": {
    "gradient": {
     "editing": false,
     "execution_count": 3,
     "id": "whole-israeli",
     "kernelId": "583276d5-8a0a-4f47-9ffe-672fe9cb301f"
    }
   },
   "outputs": [],
   "source": [
    "# train 上联\n",
    "with open(\"couplet/train/in.txt\",encoding='utf8') as f:\n",
    "    tr_in =  [row.strip().split() for row in f.readlines()]\n",
    "# train 下联  \n",
    "with open(\"couplet/train/out.txt\",encoding='utf8') as f:\n",
    "    tr_out = [row.strip().split() for row in f.readlines()]\n",
    "with open('data/train_in_pos.pt','rb') as f:\n",
    "    tr_pos_in = pickle.load(f)\n",
    "with open('data/train_out_pos.pt','rb') as f:\n",
    "    tr_pos_out = pickle.load(f)"
   ]
  },
  {
   "cell_type": "code",
   "execution_count": 6,
   "id": "6ecf80aa",
   "metadata": {
    "gradient": {
     "editing": false,
     "execution_count": 4,
     "id": "designing-stage",
     "kernelId": "583276d5-8a0a-4f47-9ffe-672fe9cb301f"
    }
   },
   "outputs": [
    {
     "data": {
      "text/plain": [
       "770491"
      ]
     },
     "metadata": {},
     "output_type": "display_data"
    },
    {
     "data": {
      "text/plain": [
       "110070"
      ]
     },
     "metadata": {},
     "output_type": "display_data"
    }
   ],
   "source": [
    "display(len(tr_in))\n",
    "total_len = len(tr_in)\n",
    "half = total_len//7\n",
    "display(half)\n",
    "train_split = int(0.80 * half)\n"
   ]
  },
  {
   "cell_type": "code",
   "execution_count": 7,
   "id": "3ae4e048",
   "metadata": {
    "gradient": {
     "editing": false,
     "id": "played-lancaster",
     "kernelId": "583276d5-8a0a-4f47-9ffe-672fe9cb301f"
    }
   },
   "outputs": [
    {
     "name": "stderr",
     "output_type": "stream",
     "text": [
      "88056it [00:34, 2522.45it/s]\n",
      "88056it [00:37, 2323.02it/s]\n"
     ]
    }
   ],
   "source": [
    "trainSet = FusionDataset(tr_in[:train_split],tokenizer,\\\n",
    "                         glyph2ix,pinyin2ix,pos2ix,tr_out[:train_split],\\\n",
    "                         tr_pos_in[:train_split],tr_pos_out[:train_split],\\\n",
    "                         device=device) # use device if you want to load it gpu"
   ]
  },
  {
   "cell_type": "code",
   "execution_count": 8,
   "id": "e809f21e",
   "metadata": {
    "gradient": {
     "editing": false,
     "execution_count": 11,
     "id": "ordered-significance",
     "kernelId": "583276d5-8a0a-4f47-9ffe-672fe9cb301f"
    }
   },
   "outputs": [
    {
     "name": "stderr",
     "output_type": "stream",
     "text": [
      "22014it [00:08, 2483.64it/s]\n",
      "22014it [00:09, 2371.53it/s]\n"
     ]
    }
   ],
   "source": [
    "valSet = FusionDataset(tr_in[train_split:half],tokenizer,\\\n",
    "                       glyph2ix,pinyin2ix,pos2ix,tr_out[train_split:half],\\\n",
    "                       tr_pos_in[train_split:half],tr_pos_out[train_split:half],\\\n",
    "                       device=device) # use device if you want to load it gpu"
   ]
  },
  {
   "cell_type": "code",
   "execution_count": 9,
   "id": "4edf7394",
   "metadata": {
    "gradient": {
     "execution_count": 14,
     "id": "protective-sixth",
     "kernelId": "583276d5-8a0a-4f47-9ffe-672fe9cb301f"
    }
   },
   "outputs": [],
   "source": [
    "from model.fusion_transformer import Fusion_Anchi_Trans_Decoder, Fusion_Anchi_Transformer, Anchi_Decoder,Anchi_Transformer"
   ]
  },
  {
   "cell_type": "code",
   "execution_count": 10,
   "id": "9092878d",
   "metadata": {},
   "outputs": [],
   "source": [
    "from utils.trans_trainer import train"
   ]
  },
  {
   "cell_type": "markdown",
   "id": "908764ed",
   "metadata": {},
   "source": [
    "## Fusion_Anchi_Trans_Decoder"
   ]
  },
  {
   "cell_type": "code",
   "execution_count": null,
   "id": "34b23bc5",
   "metadata": {},
   "outputs": [
    {
     "name": "stderr",
     "output_type": "stream",
     "text": [
      "  0%|          | 0/60 [00:00<?, ?it/s]"
     ]
    },
    {
     "name": "stdout",
     "output_type": "stream",
     "text": [
      "Epoch: 01 | Epoch Time: 5m 26s\n",
      "\tTraining Loss: 5.41640 \tValidation Loss: 3.40628\n"
     ]
    },
    {
     "name": "stderr",
     "output_type": "stream",
     "text": [
      "  2%|▏         | 1/60 [05:27<5:21:59, 327.45s/it]"
     ]
    }
   ],
   "source": [
    "# for i in range(1,6):\n",
    "config = { # for Fusion_Anchi_Trans_Decoder\n",
    "    'max_position_embeddings':50,\n",
    "    'hidden_size':768,\n",
    "    'font_weight_path':'data/glyph_weight.npy',\n",
    "    'pinyin_embed_dim':30, # trainable\n",
    "    'pinyin_path':'data/pinyin_map.json',\n",
    "    'tag_size':30,\n",
    "    'tag_emb_dim':10, # trainable\n",
    "    'layer_norm_eps':1e-12,\n",
    "    'hidden_dropout':0.1,\n",
    "    'nhead':12,\n",
    "    'num_layers':6 , #6, trainable\n",
    "    'output_dim':9110,# fixed use glyph dim as output\n",
    "    'device':device,\n",
    "}\n",
    "# batch_size = [32,64,128]\n",
    "# lr =[0.1,0.01,0.001]\n",
    "# <model_name>_<optim>_<batch_num>_<lr>_<epoch>_<num_layer>_<pinyin_embed_dim>_<tag_emb_dim>_<train_data_size>\n",
    "name = f'fu_anchi_de_Adam_128_0001_60_6_30_10_110k'\n",
    "train(Fusion_Anchi_Trans_Decoder(config),trainSet,valSet,batch_size=128,lr=0.0001,\n",
    "      epoch=60,bert=Anchibert,name= name, with_trans=True,\n",
    "      optimizer_name='Adam',scheduleFactor=0.5,\n",
    "      schedule_Patience=5,min_lr=1e-06,verbose=True\n",
    "      ,patience=10,store='result/')\n",
    "torch.cuda.empty_cache()"
   ]
  },
  {
   "cell_type": "markdown",
   "id": "d3ff26a0",
   "metadata": {},
   "source": [
    "## Anchi_Decoder"
   ]
  },
  {
   "cell_type": "code",
   "execution_count": null,
   "id": "d08539a3",
   "metadata": {},
   "outputs": [],
   "source": [
    "config = { # for Trans_Decoder\n",
    "    'max_position_embeddings':50,\n",
    "    'hidden_size':768,\n",
    "    'layer_norm_eps':1e-12,\n",
    "    'hidden_dropout':0.1,\n",
    "    'nhead':12,\n",
    "    'num_layers':6, # trainable\n",
    "    'output_dim':9110,# fixed use glyph dim as output\n",
    "    'device':device\n",
    "}\n",
    "# <model_name>_<optim>_<batch_num>_<lr>_<epoch>_<num_layer>_<train_size>\n",
    "name = 'anchi_de_Adam_128_0001_10_60_6_110k'\n",
    "train(Anchi_Decoder(config),trainSet,valSet,batch_size=128,lr=0.0001,\n",
    "      epoch=60,bert=Anchibert,name= name, with_trans=True,\n",
    "      optimizer_name='Adam',scheduleFactor=0.5,\n",
    "      schedule_Patience=5,min_lr=1e-06,verbose=True\n",
    "      ,patience=10,store='result/')\n",
    "torch.cuda.empty_cache()"
   ]
  },
  {
   "cell_type": "markdown",
   "id": "c10ae962",
   "metadata": {},
   "source": [
    "## Fusion_Anchi_Transformer"
   ]
  },
  {
   "cell_type": "code",
   "execution_count": null,
   "id": "8de949c7",
   "metadata": {},
   "outputs": [],
   "source": [
    "config = { # Fusion_Anchi_Transformer\n",
    "    'max_position_embeddings':50,\n",
    "    'hidden_size':768,\n",
    "    'font_weight_path':'data/glyph_weight.npy',\n",
    "    'pinyin_embed_dim':30, # trainable\n",
    "    'pinyin_path':'data/pinyin_map.json',\n",
    "    'tag_size':30,\n",
    "    'tag_emb_dim':10, # trainable \n",
    "    'layer_norm_eps':1e-12, \n",
    "    'hidden_dropout':0.1, \n",
    "    'nhead':12,\n",
    "    'num_encoder_layers':5, # trainable\n",
    "    'num_decoder_layers':6, # trainable\n",
    "    'output_dim':9110,# fixed use glyph dim as output\n",
    "    'dim_feedforward': 3072,\n",
    "    'activation':'relu',\n",
    "    'trans_dropout':0.1,\n",
    "    'device':device\n",
    "}\n",
    "# <model_name>_<optim>_<batch_num>_<lr>_<epoch>_<pinyin_embed_dim>_<tag_emb_dim>_<encoder layer>_<decoder layer>_<train_data_size>\n",
    "name = 'fu_anchi_tra_Adam_128_01_60_30_10_5_6_110k'\n",
    "train(Fusion_Anchi_Transformer(config),trainSet,valSet,batch_size=128,lr=0.01,\n",
    "      epoch=60,bert=Anchibert,name= name, with_trans=True,\n",
    "      optimizer_name='Adam',scheduleFactor=0.5,\n",
    "      schedule_Patience=5,min_lr=1e-06,verbose=True\n",
    "      ,patience=10,store='result/')\n",
    "torch.cuda.empty_cache()"
   ]
  },
  {
   "cell_type": "markdown",
   "id": "0bae8095",
   "metadata": {},
   "source": [
    "## Anchi_Transformer"
   ]
  },
  {
   "cell_type": "code",
   "execution_count": null,
   "id": "d24c3709",
   "metadata": {},
   "outputs": [],
   "source": [
    "config = { # Anchi_Transformer\n",
    "    'max_position_embeddings':50,\n",
    "    'hidden_size':768,\n",
    "    'layer_norm_eps':1e-12, \n",
    "    'hidden_dropout':0.1, \n",
    "    'nhead':12,\n",
    "    'num_encoder_layers':6, # trainable\n",
    "    'num_decoder_layers':6, # trainable\n",
    "    'output_dim':9110,# fixed use glyph dim as output\n",
    "    'dim_feedforward': 3072,\n",
    "    'activation':'relu',\n",
    "    'trans_dropout':0.1,\n",
    "    'device':device\n",
    "}\n",
    "# <model_name>_<optim>_<batch_num>_<lr>_<epoch>_<encoder layer>_<decoder layer>_<train_data_size>\n",
    "name = 'anchi_tra_Adam_128_01_60_6_6_110k'\n",
    "train(Anchi_Transformer(config),trainSet,valSet,batch_size=128,lr=0.01,\n",
    "      epoch=60,bert=Anchibert,name= name, with_trans=True,\n",
    "      optimizer_name='Adam',scheduleFactor=0.5,\n",
    "      schedule_Patience=5,min_lr=1e-06,verbose=True\n",
    "      ,patience=10,store='result/')\n",
    "torch.cuda.empty_cache()"
   ]
  }
 ],
 "metadata": {
  "kernelspec": {
   "display_name": "Python 3 (ipykernel)",
   "language": "python",
   "name": "python3"
  },
  "language_info": {
   "codemirror_mode": {
    "name": "ipython",
    "version": 3
   },
   "file_extension": ".py",
   "mimetype": "text/x-python",
   "name": "python",
   "nbconvert_exporter": "python",
   "pygments_lexer": "ipython3",
   "version": "3.8.12"
  }
 },
 "nbformat": 4,
 "nbformat_minor": 5
}
