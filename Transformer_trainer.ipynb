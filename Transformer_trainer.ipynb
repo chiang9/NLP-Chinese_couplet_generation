{
 "cells": [
  {
   "cell_type": "code",
   "execution_count": 1,
   "id": "15c09c1c",
   "metadata": {
    "gradient": {
     "editing": false,
     "execution_count": 4,
     "id": "boolean-diving",
     "kernelId": "583276d5-8a0a-4f47-9ffe-672fe9cb301f"
    }
   },
   "outputs": [],
   "source": [
    "%%capture\n",
    "!pip install transformers\n",
    "!pip install pypinyin\n",
    "!pip install jieba\n",
    "!pip install paddlepaddle"
   ]
  },
  {
   "cell_type": "code",
   "execution_count": 11,
   "id": "1ca141db",
   "metadata": {
    "gradient": {
     "editing": false,
     "execution_count": 1,
     "id": "metropolitan-times",
     "kernelId": "583276d5-8a0a-4f47-9ffe-672fe9cb301f"
    }
   },
   "outputs": [
    {
     "name": "stderr",
     "output_type": "stream",
     "text": [
      "Some weights of the model checkpoint at AnchiBERT were not used when initializing BertModel: ['cls.predictions.bias', 'cls.predictions.decoder.weight', 'cls.predictions.transform.LayerNorm.bias', 'cls.predictions.transform.LayerNorm.weight', 'cls.predictions.transform.dense.weight', 'cls.predictions.transform.dense.bias']\n",
      "- This IS expected if you are initializing BertModel from the checkpoint of a model trained on another task or with another architecture (e.g. initializing a BertForSequenceClassification model from a BertForPreTraining model).\n",
      "- This IS NOT expected if you are initializing BertModel from the checkpoint of a model that you expect to be exactly identical (initializing a BertForSequenceClassification model from a BertForSequenceClassification model).\n"
     ]
    }
   ],
   "source": [
    "import re,time,json\n",
    "from collections import defaultdict\n",
    "from torch.utils.data import DataLoader\n",
    "from pypinyin import pinyin, Style\n",
    "from tqdm import tqdm\n",
    "import pickle\n",
    "\n",
    "import numpy as np\n",
    "import torch\n",
    "import torch.nn.functional as F\n",
    "import torch.nn as nn\n",
    "from copy import deepcopy\n",
    "\n",
    "from transformers import (BertTokenizer,BertConfig,BertModel)\n",
    "\n",
    "from model.Embedding import *\n",
    "from model.fusionDataset import FusionDataset\n",
    "\n",
    "import jieba\n",
    "import jieba.posseg as pseg\n",
    "import paddle\n",
    "\n",
    "config = BertConfig.from_pretrained('AnchiBERT')\n",
    "tokenizer = BertTokenizer.from_pretrained('AnchiBERT')\n",
    "Anchibert = BertModel.from_pretrained('AnchiBERT',config=config)\n",
    "device = torch.device(\"cuda:0\" if torch.cuda.is_available() else \"cpu\")"
   ]
  },
  {
   "cell_type": "markdown",
   "id": "0afb2b3f",
   "metadata": {
    "gradient": {
     "editing": false,
     "id": "stable-checkout",
     "kernelId": "583276d5-8a0a-4f47-9ffe-672fe9cb301f"
    }
   },
   "source": [
    "### Load Necessary preproceeded Data"
   ]
  },
  {
   "cell_type": "code",
   "execution_count": 3,
   "id": "fcf381de",
   "metadata": {
    "gradient": {
     "editing": false,
     "execution_count": 2,
     "id": "funky-measurement",
     "kernelId": "583276d5-8a0a-4f47-9ffe-672fe9cb301f"
    }
   },
   "outputs": [],
   "source": [
    "with open('data/char_map.json','r') as f:\n",
    "    glyph2ix = defaultdict(lambda : 1)\n",
    "    glyph2ix.update({'[CLS]':0,'[SEP]':0,'[PAD]':0})\n",
    "    glyph2ix.update(json.load(f))\n",
    "\n",
    "with open('data/pinyin_map.json','r') as f:\n",
    "    pinyin2ix = defaultdict(lambda : 1)\n",
    "    pinyin2ix.update({'[CLS]':0,'[SEP]':0,'[PAD]':0})\n",
    "    pinyin2ix.update(json.load(f))\n",
    "    \n",
    "with open('data/pos_tags.json','r') as f:\n",
    "    pos2ix = defaultdict(lambda : 0)\n",
    "    pos2ix.update(json.load(f))"
   ]
  },
  {
   "cell_type": "code",
   "execution_count": 4,
   "id": "e8bf7e38",
   "metadata": {
    "gradient": {
     "editing": false,
     "execution_count": 3,
     "id": "whole-israeli",
     "kernelId": "583276d5-8a0a-4f47-9ffe-672fe9cb301f"
    }
   },
   "outputs": [],
   "source": [
    "# train 上联\n",
    "with open(\"couplet/train/in.txt\",encoding='utf8') as f:\n",
    "    tr_in =  [row.strip().split() for row in f.readlines()]\n",
    "# train 下联  \n",
    "with open(\"couplet/train/out.txt\",encoding='utf8') as f:\n",
    "    tr_out = [row.strip().split() for row in f.readlines()]\n",
    "with open('data/train_in_pos.pt','rb') as f:\n",
    "    tr_pos_in = pickle.load(f)\n",
    "with open('data/train_out_pos.pt','rb') as f:\n",
    "    tr_pos_out = pickle.load(f)"
   ]
  },
  {
   "cell_type": "code",
   "execution_count": 3,
   "id": "69a11508",
   "metadata": {},
   "outputs": [],
   "source": [
    "with open(\"couplet/test/in.txt\",encoding='utf8') as f:\n",
    "    te_in =  [row.strip().split() for row in f.readlines()]\n",
    "# train 下联  \n",
    "with open(\"couplet/test/out.txt\",encoding='utf8') as f:\n",
    "    te_out = [row.strip().split() for row in f.readlines()]"
   ]
  },
  {
   "cell_type": "code",
   "execution_count": 12,
   "id": "c54697c4",
   "metadata": {
    "gradient": {
     "editing": false,
     "execution_count": 4,
     "id": "designing-stage",
     "kernelId": "583276d5-8a0a-4f47-9ffe-672fe9cb301f"
    }
   },
   "outputs": [
    {
     "data": {
      "text/plain": [
       "770491"
      ]
     },
     "metadata": {},
     "output_type": "display_data"
    },
    {
     "data": {
      "text/plain": [
       "110070"
      ]
     },
     "metadata": {},
     "output_type": "display_data"
    }
   ],
   "source": [
    "display(len(tr_in))\n",
    "total_len = len(tr_in)\n",
    "half = total_len//7\n",
    "display(half)\n",
    "train_split = int(0.80 * half)\n"
   ]
  },
  {
   "cell_type": "code",
   "execution_count": 13,
   "id": "4b209523",
   "metadata": {
    "gradient": {
     "editing": false,
     "id": "played-lancaster",
     "kernelId": "583276d5-8a0a-4f47-9ffe-672fe9cb301f"
    }
   },
   "outputs": [
    {
     "name": "stderr",
     "output_type": "stream",
     "text": [
      "88056it [00:39, 2237.35it/s]\n",
      "88056it [00:41, 2112.32it/s]\n"
     ]
    }
   ],
   "source": [
    "trainSet = FusionDataset(tr_in[:train_split],tokenizer,\\\n",
    "                         glyph2ix,pinyin2ix,pos2ix,tr_out[:train_split],\\\n",
    "                         tr_pos_in[:train_split],tr_pos_out[:train_split],\\\n",
    "                         device=device) # use device if you want to load it gpu"
   ]
  },
  {
   "cell_type": "code",
   "execution_count": 14,
   "id": "1b9bfc0f",
   "metadata": {
    "gradient": {
     "editing": false,
     "execution_count": 11,
     "id": "ordered-significance",
     "kernelId": "583276d5-8a0a-4f47-9ffe-672fe9cb301f"
    }
   },
   "outputs": [
    {
     "name": "stderr",
     "output_type": "stream",
     "text": [
      "22014it [00:10, 2168.63it/s]\n",
      "22014it [00:10, 2078.53it/s]\n"
     ]
    }
   ],
   "source": [
    "valSet = FusionDataset(tr_in[train_split:half],tokenizer,\\\n",
    "                       glyph2ix,pinyin2ix,pos2ix,tr_out[train_split:half],\\\n",
    "                       tr_pos_in[train_split:half],tr_pos_out[train_split:half],\\\n",
    "                       device=device) # use device if you want to load it gpu"
   ]
  },
  {
   "cell_type": "code",
   "execution_count": 8,
   "id": "661e6735",
   "metadata": {
    "gradient": {
     "execution_count": 14,
     "id": "protective-sixth",
     "kernelId": "583276d5-8a0a-4f47-9ffe-672fe9cb301f"
    }
   },
   "outputs": [],
   "source": [
    "from model.fusion_transformer import Fusion_Anchi_Trans_Decoder, Fusion_Anchi_Transformer, Anchi_Decoder,Anchi_Transformer"
   ]
  },
  {
   "cell_type": "code",
   "execution_count": 9,
   "id": "cd5bfc1a",
   "metadata": {},
   "outputs": [],
   "source": [
    "from utils.trans_trainer import train"
   ]
  },
  {
   "cell_type": "markdown",
   "id": "a2e42c95",
   "metadata": {},
   "source": [
    "## Fusion_Anchi_Trans_Decoder"
   ]
  },
  {
   "cell_type": "code",
   "execution_count": 15,
   "id": "4d2192c7",
   "metadata": {},
   "outputs": [
    {
     "name": "stderr",
     "output_type": "stream",
     "text": [
      "  0%|          | 0/60 [00:00<?, ?it/s]"
     ]
    },
    {
     "name": "stdout",
     "output_type": "stream",
     "text": [
      "Epoch: 01 | Epoch Time: 5m 51s\n",
      "\tTraining Loss: 5.35195 \tValidation Loss: 4.16573\n"
     ]
    },
    {
     "name": "stderr",
     "output_type": "stream",
     "text": [
      "  2%|▏         | 1/60 [05:53<5:47:12, 353.10s/it]"
     ]
    },
    {
     "name": "stdout",
     "output_type": "stream",
     "text": [
      "Epoch: 02 | Epoch Time: 5m 54s\n",
      "\tTraining Loss: 2.89384 \tValidation Loss: 2.60486\n"
     ]
    },
    {
     "name": "stderr",
     "output_type": "stream",
     "text": [
      "  3%|▎         | 2/60 [11:48<5:42:39, 354.48s/it]"
     ]
    },
    {
     "name": "stdout",
     "output_type": "stream",
     "text": [
      "Epoch: 03 | Epoch Time: 5m 53s\n",
      "\tTraining Loss: 1.91265 \tValidation Loss: 1.99102\n"
     ]
    },
    {
     "name": "stderr",
     "output_type": "stream",
     "text": [
      "  5%|▌         | 3/60 [17:42<5:36:44, 354.47s/it]"
     ]
    },
    {
     "name": "stdout",
     "output_type": "stream",
     "text": [
      "Epoch: 04 | Epoch Time: 5m 56s\n",
      "\tTraining Loss: 1.41694 \tValidation Loss: 1.65823\n"
     ]
    },
    {
     "name": "stderr",
     "output_type": "stream",
     "text": [
      "  7%|▋         | 4/60 [23:40<5:31:58, 355.69s/it]"
     ]
    },
    {
     "name": "stdout",
     "output_type": "stream",
     "text": [
      "Epoch: 05 | Epoch Time: 5m 55s\n",
      "\tTraining Loss: 1.11060 \tValidation Loss: 1.47672\n"
     ]
    },
    {
     "name": "stderr",
     "output_type": "stream",
     "text": [
      "  8%|▊         | 5/60 [29:37<5:26:19, 355.99s/it]"
     ]
    },
    {
     "name": "stdout",
     "output_type": "stream",
     "text": [
      "Epoch: 06 | Epoch Time: 5m 54s\n",
      "\tTraining Loss: 0.89906 \tValidation Loss: 1.30798\n"
     ]
    },
    {
     "name": "stderr",
     "output_type": "stream",
     "text": [
      " 10%|█         | 6/60 [35:32<5:20:14, 355.82s/it]"
     ]
    },
    {
     "name": "stdout",
     "output_type": "stream",
     "text": [
      "Epoch: 07 | Epoch Time: 5m 53s\n",
      "\tTraining Loss: 0.74167 \tValidation Loss: 1.24568\n"
     ]
    },
    {
     "name": "stderr",
     "output_type": "stream",
     "text": [
      " 12%|█▏        | 7/60 [41:27<5:13:57, 355.43s/it]"
     ]
    },
    {
     "name": "stdout",
     "output_type": "stream",
     "text": [
      "Epoch: 08 | Epoch Time: 5m 53s\n",
      "\tTraining Loss: 0.61802 \tValidation Loss: 1.16228\n"
     ]
    },
    {
     "name": "stderr",
     "output_type": "stream",
     "text": [
      " 13%|█▎        | 8/60 [47:21<5:07:45, 355.11s/it]"
     ]
    },
    {
     "name": "stdout",
     "output_type": "stream",
     "text": [
      "Epoch: 13 | Epoch Time: 5m 53s\n",
      "\tTraining Loss: 0.25207 \tValidation Loss: 1.11490\n"
     ]
    },
    {
     "name": "stderr",
     "output_type": "stream",
     "text": [
      " 23%|██▎       | 14/60 [1:22:46<4:31:35, 354.25s/it]"
     ]
    },
    {
     "name": "stdout",
     "output_type": "stream",
     "text": [
      "Epoch: 14 | Epoch Time: 5m 54s\n",
      "\tTraining Loss: 0.21033 \tValidation Loss: 1.13375\n",
      "Epoch: 15 | Epoch Time: 5m 53s\n",
      "\tTraining Loss: 0.17809 \tValidation Loss: 1.10321\n"
     ]
    },
    {
     "name": "stderr",
     "output_type": "stream",
     "text": [
      " 27%|██▋       | 16/60 [1:34:34<4:19:34, 353.96s/it]"
     ]
    },
    {
     "name": "stdout",
     "output_type": "stream",
     "text": [
      "Epoch: 16 | Epoch Time: 5m 53s\n",
      "\tTraining Loss: 0.15234 \tValidation Loss: 1.14864\n"
     ]
    },
    {
     "name": "stderr",
     "output_type": "stream",
     "text": [
      " 28%|██▊       | 17/60 [1:40:27<4:13:26, 353.64s/it]"
     ]
    },
    {
     "name": "stdout",
     "output_type": "stream",
     "text": [
      "Epoch: 17 | Epoch Time: 5m 52s\n",
      "\tTraining Loss: 0.13029 \tValidation Loss: 1.15618\n"
     ]
    },
    {
     "name": "stderr",
     "output_type": "stream",
     "text": [
      " 30%|███       | 18/60 [1:46:20<4:07:34, 353.67s/it]"
     ]
    },
    {
     "name": "stdout",
     "output_type": "stream",
     "text": [
      "Epoch: 18 | Epoch Time: 5m 53s\n",
      "\tTraining Loss: 0.11697 \tValidation Loss: 1.17385\n"
     ]
    },
    {
     "name": "stderr",
     "output_type": "stream",
     "text": [
      " 32%|███▏      | 19/60 [1:52:13<4:01:31, 353.46s/it]"
     ]
    },
    {
     "name": "stdout",
     "output_type": "stream",
     "text": [
      "Epoch: 19 | Epoch Time: 5m 52s\n",
      "\tTraining Loss: 0.10260 \tValidation Loss: 1.21855\n"
     ]
    },
    {
     "name": "stderr",
     "output_type": "stream",
     "text": [
      " 33%|███▎      | 20/60 [1:58:07<3:55:35, 353.38s/it]"
     ]
    },
    {
     "name": "stdout",
     "output_type": "stream",
     "text": [
      "Epoch: 20 | Epoch Time: 5m 53s\n",
      "\tTraining Loss: 0.09308 \tValidation Loss: 1.20932\n"
     ]
    },
    {
     "name": "stderr",
     "output_type": "stream",
     "text": [
      " 35%|███▌      | 21/60 [2:04:00<3:49:39, 353.33s/it]"
     ]
    },
    {
     "name": "stdout",
     "output_type": "stream",
     "text": [
      "Epoch: 21 | Epoch Time: 5m 53s\n",
      "\tTraining Loss: 0.08596 \tValidation Loss: 1.23561\n"
     ]
    },
    {
     "name": "stderr",
     "output_type": "stream",
     "text": [
      " 37%|███▋      | 22/60 [2:09:53<3:43:41, 353.21s/it]"
     ]
    },
    {
     "name": "stdout",
     "output_type": "stream",
     "text": [
      "Epoch: 22 | Epoch Time: 5m 52s\n",
      "\tTraining Loss: 0.07951 \tValidation Loss: 1.25623\n"
     ]
    },
    {
     "name": "stderr",
     "output_type": "stream",
     "text": [
      " 38%|███▊      | 23/60 [2:15:46<3:37:46, 353.14s/it]"
     ]
    },
    {
     "name": "stdout",
     "output_type": "stream",
     "text": [
      "Epoch: 23 | Epoch Time: 5m 52s\n",
      "\tTraining Loss: 0.07298 \tValidation Loss: 1.19600\n"
     ]
    },
    {
     "name": "stderr",
     "output_type": "stream",
     "text": [
      " 40%|████      | 24/60 [2:21:39<3:31:54, 353.17s/it]"
     ]
    },
    {
     "name": "stdout",
     "output_type": "stream",
     "text": [
      "Epoch: 24 | Epoch Time: 5m 53s\n",
      "\tTraining Loss: 0.06817 \tValidation Loss: 1.22152\n"
     ]
    },
    {
     "name": "stderr",
     "output_type": "stream",
     "text": [
      " 40%|████      | 24/60 [2:27:33<3:41:20, 368.89s/it]"
     ]
    },
    {
     "name": "stdout",
     "output_type": "stream",
     "text": [
      "Epoch: 25 | Epoch Time: 5m 53s\n",
      "\tTraining Loss: 0.06407 \tValidation Loss: 1.26311\n"
     ]
    },
    {
     "name": "stderr",
     "output_type": "stream",
     "text": [
      "\n"
     ]
    }
   ],
   "source": [
    "# for i in range(1,6):\n",
    "config = { # for Fusion_Anchi_Trans_Decoder\n",
    "    'max_position_embeddings':50,\n",
    "    'hidden_size':768,\n",
    "    'font_weight_path':'data/glyph_weight.npy',\n",
    "    'pinyin_embed_dim':30, # trainable\n",
    "    'pinyin_path':'data/pinyin_map.json',\n",
    "    'tag_size':30,\n",
    "    'tag_emb_dim':10, # trainable\n",
    "    'layer_norm_eps':1e-12,\n",
    "    'hidden_dropout':0.1,\n",
    "    'nhead':12,\n",
    "    'num_layers':6 , #6, trainable\n",
    "    'output_dim':21128,# fixed\n",
    "    'device':device,\n",
    "}\n",
    "# batch_size = [32,64,128]\n",
    "# lr =[0.1,0.01,0.001]\n",
    "# <model_name>_<optim>_<batch_num>_<lr>_<epoch>_<num_layer>_<pinyin_embed_dim>_<tag_emb_dim>_<train_size>\n",
    "name = f'fu_anchi_de_Adam_128_0001_60_6_30_10_110k'\n",
    "train(Fusion_Anchi_Trans_Decoder(config),trainSet,valSet,batch_size=128,lr=0.0001,\n",
    "      epoch=60,bert=Anchibert,name= name, with_trans=True,\n",
    "      optimizer_name='Adam',scheduleFactor=0.5,\n",
    "      schedule_Patience=5,min_lr=1e-06,verbose=True\n",
    "      ,patience=10,store='result/')\n",
    "torch.cuda.empty_cache()"
   ]
  },
  {
   "cell_type": "markdown",
   "id": "9bb7df6e",
   "metadata": {},
   "source": [
    "## Anchi_Decoder"
   ]
  },
  {
   "cell_type": "code",
   "execution_count": null,
   "id": "e7e15a0f",
   "metadata": {},
   "outputs": [
    {
     "name": "stderr",
     "output_type": "stream",
     "text": [
      "  0%|          | 0/60 [00:00<?, ?it/s]"
     ]
    },
    {
     "name": "stdout",
     "output_type": "stream",
     "text": [
      "Epoch: 01 | Epoch Time: 5m 43s\n",
      "\tTraining Loss: 5.28061 \tValidation Loss: 4.09259\n"
     ]
    },
    {
     "name": "stderr",
     "output_type": "stream",
     "text": [
      "  2%|▏         | 1/60 [05:44<5:39:02, 344.79s/it]"
     ]
    },
    {
     "name": "stdout",
     "output_type": "stream",
     "text": [
      "Epoch: 02 | Epoch Time: 5m 45s\n",
      "\tTraining Loss: 2.94924 \tValidation Loss: 2.67170\n"
     ]
    },
    {
     "name": "stderr",
     "output_type": "stream",
     "text": [
      "  3%|▎         | 2/60 [11:31<5:34:20, 345.88s/it]"
     ]
    },
    {
     "name": "stdout",
     "output_type": "stream",
     "text": [
      "Epoch: 03 | Epoch Time: 5m 45s\n",
      "\tTraining Loss: 2.10598 \tValidation Loss: 2.17220\n"
     ]
    },
    {
     "name": "stderr",
     "output_type": "stream",
     "text": [
      "  5%|▌         | 3/60 [17:17<5:28:47, 346.10s/it]"
     ]
    },
    {
     "name": "stdout",
     "output_type": "stream",
     "text": [
      "Epoch: 04 | Epoch Time: 5m 46s\n",
      "\tTraining Loss: 1.65530 \tValidation Loss: 1.84571\n"
     ]
    },
    {
     "name": "stderr",
     "output_type": "stream",
     "text": [
      "  7%|▋         | 4/60 [23:04<5:23:25, 346.53s/it]"
     ]
    },
    {
     "name": "stdout",
     "output_type": "stream",
     "text": [
      "Epoch: 05 | Epoch Time: 5m 45s\n",
      "\tTraining Loss: 1.36300 \tValidation Loss: 1.65222\n"
     ]
    },
    {
     "name": "stderr",
     "output_type": "stream",
     "text": [
      "  8%|▊         | 5/60 [28:51<5:17:36, 346.49s/it]"
     ]
    },
    {
     "name": "stdout",
     "output_type": "stream",
     "text": [
      "Epoch: 06 | Epoch Time: 5m 45s\n",
      "\tTraining Loss: 1.15329 \tValidation Loss: 1.54869\n"
     ]
    },
    {
     "name": "stderr",
     "output_type": "stream",
     "text": [
      " 10%|█         | 6/60 [34:37<5:11:50, 346.48s/it]"
     ]
    },
    {
     "name": "stdout",
     "output_type": "stream",
     "text": [
      "Epoch: 07 | Epoch Time: 5m 45s\n",
      "\tTraining Loss: 0.99252 \tValidation Loss: 1.43673\n"
     ]
    },
    {
     "name": "stderr",
     "output_type": "stream",
     "text": [
      " 12%|█▏        | 7/60 [40:24<5:06:04, 346.50s/it]"
     ]
    },
    {
     "name": "stdout",
     "output_type": "stream",
     "text": [
      "Epoch: 08 | Epoch Time: 5m 45s\n",
      "\tTraining Loss: 0.86253 \tValidation Loss: 1.41129\n"
     ]
    },
    {
     "name": "stderr",
     "output_type": "stream",
     "text": [
      " 13%|█▎        | 8/60 [46:11<5:00:19, 346.53s/it]"
     ]
    },
    {
     "name": "stdout",
     "output_type": "stream",
     "text": [
      "Epoch: 09 | Epoch Time: 5m 45s\n",
      "\tTraining Loss: 0.75436 \tValidation Loss: 1.35346\n"
     ]
    },
    {
     "name": "stderr",
     "output_type": "stream",
     "text": [
      " 15%|█▌        | 9/60 [51:57<4:54:32, 346.52s/it]"
     ]
    },
    {
     "name": "stdout",
     "output_type": "stream",
     "text": [
      "Epoch: 10 | Epoch Time: 5m 45s\n",
      "\tTraining Loss: 0.66106 \tValidation Loss: 1.33461\n"
     ]
    },
    {
     "name": "stderr",
     "output_type": "stream",
     "text": [
      " 17%|█▋        | 10/60 [57:44<4:48:50, 346.61s/it]"
     ]
    },
    {
     "name": "stdout",
     "output_type": "stream",
     "text": [
      "Epoch: 11 | Epoch Time: 5m 45s\n",
      "\tTraining Loss: 0.58239 \tValidation Loss: 1.31621\n"
     ]
    },
    {
     "name": "stderr",
     "output_type": "stream",
     "text": [
      " 18%|█▊        | 11/60 [1:03:31<4:43:07, 346.68s/it]"
     ]
    }
   ],
   "source": [
    "config = { # for Trans_Decoder\n",
    "    'max_position_embeddings':50,\n",
    "    'hidden_size':768,\n",
    "    'layer_norm_eps':1e-12,\n",
    "    'hidden_dropout':0.1,\n",
    "    'nhead':12,\n",
    "    'num_layers':6, # trainable\n",
    "    'output_dim':21128, # fixed\n",
    "    'device':device\n",
    "}\n",
    "# <model_name>_<optim>_<batch_num>_<lr>_<epoch>_<num_layer>_<train_size>\n",
    "name = 'anchi_de_Adam_128_0001_10_60_6_110k'\n",
    "train(Anchi_Decoder(config),trainSet,valSet,batch_size=128,lr=0.0001,\n",
    "      epoch=60,bert=Anchibert,name= name, with_trans=True,\n",
    "      optimizer_name='Adam',scheduleFactor=0.5,\n",
    "      schedule_Patience=5,min_lr=1e-06,verbose=True\n",
    "      ,patience=10,store='result/')\n",
    "torch.cuda.empty_cache()"
   ]
  },
  {
   "cell_type": "markdown",
   "id": "dbe13628",
   "metadata": {},
   "source": [
    "## Fusion_Anchi_Transformer"
   ]
  },
  {
   "cell_type": "code",
   "execution_count": 13,
   "id": "c42f35e9",
   "metadata": {},
   "outputs": [
    {
     "name": "stderr",
     "output_type": "stream",
     "text": [
      "  0%|          | 0/60 [00:00<?, ?it/s]"
     ]
    },
    {
     "name": "stdout",
     "output_type": "stream",
     "text": [
      "Epoch: 01 | Epoch Time: 3m 33s\n",
      "\tTraining Loss: 6.89782 \tValidation Loss: 6.63895\n"
     ]
    },
    {
     "name": "stderr",
     "output_type": "stream",
     "text": [
      "  2%|▏         | 1/60 [03:34<3:31:14, 214.83s/it]"
     ]
    },
    {
     "name": "stdout",
     "output_type": "stream",
     "text": [
      "Epoch: 02 | Epoch Time: 3m 34s\n",
      "\tTraining Loss: 6.59584 \tValidation Loss: 6.61068\n"
     ]
    },
    {
     "name": "stderr",
     "output_type": "stream",
     "text": [
      "  3%|▎         | 2/60 [07:11<3:28:29, 215.68s/it]"
     ]
    },
    {
     "name": "stdout",
     "output_type": "stream",
     "text": [
      "Epoch: 03 | Epoch Time: 3m 34s\n",
      "\tTraining Loss: 6.58903 \tValidation Loss: 6.59362\n"
     ]
    },
    {
     "name": "stderr",
     "output_type": "stream",
     "text": [
      "  7%|▋         | 4/60 [14:21<3:21:03, 215.41s/it]"
     ]
    },
    {
     "name": "stdout",
     "output_type": "stream",
     "text": [
      "Epoch: 04 | Epoch Time: 3m 34s\n",
      "\tTraining Loss: 6.58459 \tValidation Loss: 6.61416\n",
      "Epoch: 05 | Epoch Time: 3m 34s\n",
      "\tTraining Loss: 6.58126 \tValidation Loss: 6.57607\n"
     ]
    },
    {
     "name": "stderr",
     "output_type": "stream",
     "text": [
      " 10%|█         | 6/60 [21:32<3:13:47, 215.33s/it]"
     ]
    },
    {
     "name": "stdout",
     "output_type": "stream",
     "text": [
      "Epoch: 06 | Epoch Time: 3m 34s\n",
      "\tTraining Loss: 6.57755 \tValidation Loss: 6.59846\n",
      "Epoch: 07 | Epoch Time: 3m 34s\n",
      "\tTraining Loss: 6.57632 \tValidation Loss: 6.57565\n"
     ]
    },
    {
     "name": "stderr",
     "output_type": "stream",
     "text": [
      " 13%|█▎        | 8/60 [28:43<3:06:32, 215.23s/it]"
     ]
    },
    {
     "name": "stdout",
     "output_type": "stream",
     "text": [
      "Epoch: 08 | Epoch Time: 3m 34s\n",
      "\tTraining Loss: 6.57547 \tValidation Loss: 6.58111\n"
     ]
    },
    {
     "name": "stderr",
     "output_type": "stream",
     "text": [
      " 15%|█▌        | 9/60 [32:17<3:02:48, 215.07s/it]"
     ]
    },
    {
     "name": "stdout",
     "output_type": "stream",
     "text": [
      "Epoch: 09 | Epoch Time: 3m 34s\n",
      "\tTraining Loss: 6.57559 \tValidation Loss: 6.59578\n",
      "Epoch: 10 | Epoch Time: 3m 35s\n",
      "\tTraining Loss: 6.57306 \tValidation Loss: 6.57334\n"
     ]
    },
    {
     "name": "stderr",
     "output_type": "stream",
     "text": [
      " 18%|█▊        | 11/60 [39:29<2:55:52, 215.35s/it]"
     ]
    },
    {
     "name": "stdout",
     "output_type": "stream",
     "text": [
      "Epoch: 11 | Epoch Time: 3m 34s\n",
      "\tTraining Loss: 6.57148 \tValidation Loss: 6.57601\n"
     ]
    },
    {
     "name": "stderr",
     "output_type": "stream",
     "text": [
      " 20%|██        | 12/60 [43:04<2:52:06, 215.14s/it]"
     ]
    },
    {
     "name": "stdout",
     "output_type": "stream",
     "text": [
      "Epoch: 12 | Epoch Time: 3m 34s\n",
      "\tTraining Loss: 6.57018 \tValidation Loss: 6.58347\n"
     ]
    },
    {
     "name": "stderr",
     "output_type": "stream",
     "text": [
      " 22%|██▏       | 13/60 [46:38<2:48:23, 214.97s/it]"
     ]
    },
    {
     "name": "stdout",
     "output_type": "stream",
     "text": [
      "Epoch: 13 | Epoch Time: 3m 34s\n",
      "\tTraining Loss: 6.57130 \tValidation Loss: 6.57567\n"
     ]
    },
    {
     "name": "stderr",
     "output_type": "stream",
     "text": [
      " 23%|██▎       | 14/60 [50:13<2:44:44, 214.87s/it]"
     ]
    },
    {
     "name": "stdout",
     "output_type": "stream",
     "text": [
      "Epoch: 14 | Epoch Time: 3m 34s\n",
      "\tTraining Loss: 6.57235 \tValidation Loss: 6.57635\n"
     ]
    },
    {
     "name": "stderr",
     "output_type": "stream",
     "text": [
      " 25%|██▌       | 15/60 [53:48<2:41:05, 214.79s/it]"
     ]
    },
    {
     "name": "stdout",
     "output_type": "stream",
     "text": [
      "Epoch: 15 | Epoch Time: 3m 34s\n",
      "\tTraining Loss: 6.57185 \tValidation Loss: 6.57522\n"
     ]
    },
    {
     "name": "stderr",
     "output_type": "stream",
     "text": [
      " 27%|██▋       | 16/60 [57:22<2:37:28, 214.75s/it]"
     ]
    },
    {
     "name": "stdout",
     "output_type": "stream",
     "text": [
      "Epoch: 16 | Epoch Time: 3m 34s\n",
      "\tTraining Loss: 6.57085 \tValidation Loss: 6.57798\n"
     ]
    },
    {
     "name": "stderr",
     "output_type": "stream",
     "text": [
      " 28%|██▊       | 17/60 [1:00:57<2:33:52, 214.71s/it]"
     ]
    },
    {
     "name": "stdout",
     "output_type": "stream",
     "text": [
      "Epoch: 17 | Epoch Time: 3m 34s\n",
      "\tTraining Loss: 6.57143 \tValidation Loss: 6.57393\n",
      "Epoch    18: reducing learning rate of group 0 to 5.0000e-03.\n",
      "Epoch: 18 | Epoch Time: 3m 34s\n",
      "\tTraining Loss: 6.57193 \tValidation Loss: 6.57278\n"
     ]
    },
    {
     "name": "stderr",
     "output_type": "stream",
     "text": [
      " 30%|███       | 18/60 [1:04:33<2:30:34, 215.10s/it]"
     ]
    },
    {
     "name": "stdout",
     "output_type": "stream",
     "text": [
      "Epoch: 19 | Epoch Time: 3m 34s\n",
      "\tTraining Loss: 6.55818 \tValidation Loss: 6.56132\n"
     ]
    },
    {
     "name": "stderr",
     "output_type": "stream",
     "text": [
      " 33%|███▎      | 20/60 [1:11:44<2:23:27, 215.20s/it]"
     ]
    },
    {
     "name": "stdout",
     "output_type": "stream",
     "text": [
      "Epoch: 20 | Epoch Time: 3m 34s\n",
      "\tTraining Loss: 6.55782 \tValidation Loss: 6.56404\n"
     ]
    },
    {
     "name": "stderr",
     "output_type": "stream",
     "text": [
      " 35%|███▌      | 21/60 [1:15:18<2:19:47, 215.07s/it]"
     ]
    },
    {
     "name": "stdout",
     "output_type": "stream",
     "text": [
      "Epoch: 21 | Epoch Time: 3m 34s\n",
      "\tTraining Loss: 6.55936 \tValidation Loss: 6.57608\n"
     ]
    },
    {
     "name": "stderr",
     "output_type": "stream",
     "text": [
      " 37%|███▋      | 22/60 [1:18:53<2:16:09, 214.98s/it]"
     ]
    },
    {
     "name": "stdout",
     "output_type": "stream",
     "text": [
      "Epoch: 22 | Epoch Time: 3m 34s\n",
      "\tTraining Loss: 6.55818 \tValidation Loss: 6.56149\n"
     ]
    },
    {
     "name": "stderr",
     "output_type": "stream",
     "text": [
      " 38%|███▊      | 23/60 [1:22:28<2:12:30, 214.89s/it]"
     ]
    },
    {
     "name": "stdout",
     "output_type": "stream",
     "text": [
      "Epoch: 23 | Epoch Time: 3m 34s\n",
      "\tTraining Loss: 6.55789 \tValidation Loss: 6.56527\n"
     ]
    },
    {
     "name": "stderr",
     "output_type": "stream",
     "text": [
      " 40%|████      | 24/60 [1:26:03<2:08:53, 214.83s/it]"
     ]
    },
    {
     "name": "stdout",
     "output_type": "stream",
     "text": [
      "Epoch: 24 | Epoch Time: 3m 34s\n",
      "\tTraining Loss: 6.55706 \tValidation Loss: 6.56225\n"
     ]
    },
    {
     "name": "stderr",
     "output_type": "stream",
     "text": [
      " 42%|████▏     | 25/60 [1:29:37<2:05:18, 214.82s/it]"
     ]
    },
    {
     "name": "stdout",
     "output_type": "stream",
     "text": [
      "Epoch: 25 | Epoch Time: 3m 34s\n",
      "\tTraining Loss: 6.55849 \tValidation Loss: 6.57291\n"
     ]
    },
    {
     "name": "stderr",
     "output_type": "stream",
     "text": [
      " 43%|████▎     | 26/60 [1:33:13<2:01:49, 214.99s/it]"
     ]
    },
    {
     "name": "stdout",
     "output_type": "stream",
     "text": [
      "Epoch: 26 | Epoch Time: 3m 35s\n",
      "\tTraining Loss: 6.55841 \tValidation Loss: 6.56252\n"
     ]
    },
    {
     "name": "stderr",
     "output_type": "stream",
     "text": [
      " 45%|████▌     | 27/60 [1:36:47<1:58:11, 214.89s/it]"
     ]
    },
    {
     "name": "stdout",
     "output_type": "stream",
     "text": [
      "Epoch: 27 | Epoch Time: 3m 34s\n",
      "\tTraining Loss: 6.55731 \tValidation Loss: 6.56183\n"
     ]
    },
    {
     "name": "stderr",
     "output_type": "stream",
     "text": [
      " 47%|████▋     | 28/60 [1:40:22<1:54:34, 214.83s/it]"
     ]
    },
    {
     "name": "stdout",
     "output_type": "stream",
     "text": [
      "Epoch: 28 | Epoch Time: 3m 34s\n",
      "\tTraining Loss: 6.55844 \tValidation Loss: 6.56411\n"
     ]
    },
    {
     "name": "stderr",
     "output_type": "stream",
     "text": [
      " 47%|████▋     | 28/60 [1:43:57<1:58:48, 222.76s/it]"
     ]
    },
    {
     "name": "stdout",
     "output_type": "stream",
     "text": [
      "Epoch: 29 | Epoch Time: 3m 34s\n",
      "\tTraining Loss: 6.55779 \tValidation Loss: 6.56255\n"
     ]
    },
    {
     "name": "stderr",
     "output_type": "stream",
     "text": [
      "\n"
     ]
    }
   ],
   "source": [
    "config = { # Fusion_Anchi_Transformer\n",
    "    'max_position_embeddings':50,\n",
    "    'hidden_size':768,\n",
    "    'font_weight_path':'data/glyph_weight.npy',\n",
    "    'pinyin_embed_dim':30, # trainable\n",
    "    'pinyin_path':'data/pinyin_map.json',\n",
    "    'tag_size':30,\n",
    "    'tag_emb_dim':10, # trainable \n",
    "    'layer_norm_eps':1e-12, \n",
    "    'hidden_dropout':0.1, \n",
    "    'nhead':12,\n",
    "    'num_encoder_layers':5, # trainable\n",
    "    'num_decoder_layers':6, # trainable\n",
    "    'output_dim':21128, # fixed\n",
    "    'dim_feedforward': 3072,\n",
    "    'activation':'relu',\n",
    "    'trans_dropout':0.1,\n",
    "    'device':device\n",
    "}\n",
    "# <model_name>_<optim>_<batch_num>_<lr>_<epoch>_<pinyin_embed_dim>_<tag_emb_dim>_<encoder layer>_<decoder layer>\n",
    "name = 'fu_anchi_tra_Adam_128_01_60_30_10_5_6'\n",
    "train(Fusion_Anchi_Transformer(config),trainSet,valSet,batch_size=128,lr=0.01,\n",
    "      epoch=60,bert=Anchibert,name= name, with_trans=True,\n",
    "      optimizer_name='Adam',scheduleFactor=0.5,\n",
    "      schedule_Patience=5,min_lr=1e-06,verbose=True\n",
    "      ,patience=10,store='result/')\n",
    "torch.cuda.empty_cache()"
   ]
  },
  {
   "cell_type": "markdown",
   "id": "0b539035",
   "metadata": {},
   "source": [
    "## Anchi_Transformer"
   ]
  },
  {
   "cell_type": "code",
   "execution_count": null,
   "id": "cd011dc3",
   "metadata": {},
   "outputs": [],
   "source": [
    "config = { # Anchi_Transformer\n",
    "    'max_position_embeddings':50,\n",
    "    'hidden_size':768,\n",
    "    'layer_norm_eps':1e-12, \n",
    "    'hidden_dropout':0.1, \n",
    "    'nhead':12,\n",
    "    'num_encoder_layers':6, # trainable\n",
    "    'num_decoder_layers':6, # trainable\n",
    "    'output_dim':21128, # fixed\n",
    "    'dim_feedforward': 3072,\n",
    "    'activation':'relu',\n",
    "    'trans_dropout':0.1,\n",
    "    'device':device\n",
    "}\n",
    "# <model_name>_<optim>_<batch_num>_<lr>_<epoch>_<encoder layer>_<decoder layer>\n",
    "name = 'anchi_tra_Adam_128_01_60_6_6'\n",
    "train(Anchi_Transformer(config),trainSet,valSet,batch_size=128,lr=0.01,\n",
    "      epoch=60,bert=Anchibert,name= name, with_trans=True,\n",
    "      optimizer_name='Adam',scheduleFactor=0.5,\n",
    "      schedule_Patience=5,min_lr=1e-06,verbose=True\n",
    "      ,patience=10,store='result/')\n",
    "torch.cuda.empty_cache()"
   ]
  },
  {
   "cell_type": "markdown",
   "id": "e46cded1",
   "metadata": {},
   "source": [
    "# Decoder Section"
   ]
  },
  {
   "cell_type": "code",
   "execution_count": 5,
   "id": "865f2daa",
   "metadata": {},
   "outputs": [
    {
     "data": {
      "text/plain": [
       "<All keys matched successfully>"
      ]
     },
     "execution_count": 5,
     "metadata": {},
     "output_type": "execute_result"
    }
   ],
   "source": [
    "config = { # for Fusion_Anchi_Trans_Decoder\n",
    "    'max_position_embeddings':50,\n",
    "    'hidden_size':768,\n",
    "    'font_weight_path':'data/glyph_weight.npy',\n",
    "    'pinyin_embed_dim':30, # trainable\n",
    "    'pinyin_path':'data/pinyin_map.json',\n",
    "    'tag_size':30,\n",
    "    'tag_emb_dim':10, # trainable\n",
    "    'layer_norm_eps':1e-12,\n",
    "    'hidden_dropout':0.1,\n",
    "    'nhead':12,\n",
    "    'num_layers':6 , #6, trainable\n",
    "    'output_dim':21128,# fixed\n",
    "    'device':device,\n",
    "}\n",
    "model = Fusion_Anchi_Trans_Decoder(config)\n",
    "model.load_state_dict(torch.load('result/fu_anchi_de_Adam_128_0001_60_6_30_10_110k.pt'))"
   ]
  },
  {
   "cell_type": "code",
   "execution_count": 6,
   "id": "214b44d5",
   "metadata": {},
   "outputs": [],
   "source": [
    "from utils.generate_couplet import greedy_decode"
   ]
  },
  {
   "cell_type": "code",
   "execution_count": null,
   "id": "a9146f72",
   "metadata": {},
   "outputs": [],
   "source": [
    "%%capture\n",
    "predict = greedy_decode(model=model,\n",
    "                      bert=Anchibert,\n",
    "                      tokenizer=tokenizer,\n",
    "                      sent=te_in[0],\n",
    "                      glyph2ix=glyph2ix,\n",
    "                      pinyin2ix=pinyin2ix,\n",
    "                      pos2ix=pos2ix,device=device)"
   ]
  },
  {
   "cell_type": "code",
   "execution_count": 11,
   "id": "253647fa",
   "metadata": {},
   "outputs": [
    {
     "data": {
      "text/plain": [
       "('腾 飞 上 铁 ， 锐 意 改 革 谋 发 展 ， 勇 当 千 里 马', '自 由 自 由 ， 自 由 自 由 自 由 自 由 自 由 自 由 自')"
      ]
     },
     "execution_count": 11,
     "metadata": {},
     "output_type": "execute_result"
    }
   ],
   "source": [
    "' '.join(te_in[0]),' '.join(predict)"
   ]
  }
 ],
 "metadata": {
  "kernelspec": {
   "display_name": "Python 3 (ipykernel)",
   "language": "python",
   "name": "python3"
  },
  "language_info": {
   "codemirror_mode": {
    "name": "ipython",
    "version": 3
   },
   "file_extension": ".py",
   "mimetype": "text/x-python",
   "name": "python",
   "nbconvert_exporter": "python",
   "pygments_lexer": "ipython3",
   "version": "3.8.12"
  }
 },
 "nbformat": 4,
 "nbformat_minor": 5
}
