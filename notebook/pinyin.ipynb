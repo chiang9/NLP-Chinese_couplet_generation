{
 "cells": [
  {
   "cell_type": "code",
   "execution_count": 1,
   "id": "curious-helping",
   "metadata": {},
   "outputs": [
    {
     "name": "stdout",
     "output_type": "stream",
     "text": [
      "Collecting pypinyin\n",
      "  Downloading pypinyin-0.44.0-py2.py3-none-any.whl (1.3 MB)\n",
      "\u001b[K     |████████████████████████████████| 1.3 MB 18.4 MB/s eta 0:00:01\n",
      "\u001b[?25hInstalling collected packages: pypinyin\n",
      "Successfully installed pypinyin-0.44.0\n"
     ]
    }
   ],
   "source": [
    "# Char Preprocessor\n",
    "__author__ = \"Shihao Lin\"\n",
    "## Acknowledge:\n",
    "#  https://github.com/mozillazg/python-pinyin\n",
    "!pip install pypinyin"
   ]
  },
  {
   "cell_type": "code",
   "execution_count": 2,
   "id": "shaped-defense",
   "metadata": {},
   "outputs": [
    {
     "data": {
      "text/plain": [
       "[['zha1o'], ['ya2ng'], [',']]"
      ]
     },
     "execution_count": 2,
     "metadata": {},
     "output_type": "execute_result"
    }
   ],
   "source": [
    "from pypinyin import pinyin, Style #, load_single_dict, lazy_pinyin\n",
    "import re,json\n",
    "# from pypinyin_dict.pinyin_data import kxhc1983\n",
    "# kxhc1983.load()\n",
    "# load_single_dict({ord('凉'):'liáng'})\n",
    "\n",
    "# Example\n",
    "# zha4o : TONE2\n",
    "# neutral_tone_with_five: 声调使用数字表示的相关拼音风格下的结果是否使用 5 标识轻声\n",
    "# heteronym: 是否启用多音字\n",
    "pinyin('朝阳,',style=Style.TONE2, heteronym=False,neutral_tone_with_five=True)"
   ]
  },
  {
   "cell_type": "code",
   "execution_count": 3,
   "id": "shaped-intranet",
   "metadata": {},
   "outputs": [],
   "source": [
    "# tranform the wrong Chinese Char in dataset to match Char in pinyin library\n",
    "char_correct = {'凉':'凉','裏':'裹','郎':'郎','ㄚ':'丫','—':'一'}"
   ]
  },
  {
   "cell_type": "code",
   "execution_count": 4,
   "id": "respiratory-township",
   "metadata": {},
   "outputs": [
    {
     "data": {
      "text/plain": [
       "[['ㄚ'], ['ya1']]"
      ]
     },
     "execution_count": 4,
     "metadata": {},
     "output_type": "execute_result"
    }
   ],
   "source": [
    "# Example\n",
    "pinyin('ㄚ丫',style=Style.TONE2)"
   ]
  },
  {
   "cell_type": "code",
   "execution_count": 5,
   "id": "italic-genealogy",
   "metadata": {},
   "outputs": [],
   "source": [
    "def collect_char_info(filenames:list,unique_pinyin:set=set(),\n",
    "                      unique_char:set=set(),unique_sym: set =set(),\n",
    "                      char_correct:dict = dict(),encoding='utf8'):\n",
    "    \"\"\"\n",
    "    Find out all unique Chinese Char\n",
    "    Find out all unique Chinese pingyin\n",
    "    Find out all unique Non-Char symbol\n",
    "    Find out all Char that cannot be translated by pinyin function\n",
    "    (ex. \\ue846)\n",
    "    \"\"\"\n",
    "    trans2pinyin = lambda sent: {_[0] for _ in pinyin(sent,style=Style.TONE2, heteronym=False,neutral_tone_with_five=True)}\n",
    "    errors = set()\n",
    "    for filename in filenames:\n",
    "        with open(filename,encoding=encoding) as f:\n",
    "            for row in f.readlines():\n",
    "                row = row.strip().split()\n",
    "                tmp = []\n",
    "                for i in range(len(row)):\n",
    "                    if re.match(r'[\\ue2a5-\\ue8f0]+',row[i]): # detect improper word\n",
    "                        errors.add(row[i])\n",
    "                        print(''.join(row))\n",
    "                    elif row[i] in char_correct:\n",
    "                        tmp.append(char_correct[row[i]])\n",
    "                        \n",
    "                    elif re.match('\\W',row[i]):\n",
    "                        unique_sym.add(row[i])\n",
    "                    else:\n",
    "                        tmp.append(row[i])\n",
    "                    \n",
    "                try:\n",
    "                    res = trans2pinyin(''.join(tmp))\n",
    "                    if '' in res:\n",
    "                        print(\"'' occurs:\",tmp)\n",
    "                    unique_pinyin.update(res)\n",
    "                except:\n",
    "                    print('Parsing fails, Non proper word exists:\\n',\n",
    "                          ''.join(tmp),'\\n','-'*10)\n",
    "                    continue\n",
    "                unique_char.update(set(tmp))\n",
    "    return unique_pinyin,unique_char,unique_sym,errors"
   ]
  },
  {
   "cell_type": "code",
   "execution_count": 6,
   "id": "electric-denmark",
   "metadata": {},
   "outputs": [
    {
     "name": "stdout",
     "output_type": "stream",
     "text": [
      "创业艰辛业怠\n",
      "败草腐花，挖锨铲连根去\n",
      "八共会共青会\n",
      "癯然山泽风姿，试引鹓花树下\n",
      "特科正待醇儒，天不遗，镜水稽山销气色\n",
      "叠起一房山，大好园林，最难得茅屋买春，竹消夏\n",
      "几多神秘醉心头，看它峰谷藏奇，灵崖起将军骨\n",
      "一老不遗，章云贡日含愁思\n",
      "双桨碧云东，翠萦渚、锦翻葵经\n",
      "何须掌指头皮\n",
      "轻戒疤，或枯禅坐久，两行小字现盘陁\n",
      "讲堂刊定本，奈校方半，九经中大义，从此付何人\n",
      "一百年系定赤绳，愿李夭桃，都成眷属，情天不老月长圆\n",
      "生烟、熟烟、姑烟、兰州水烟、鸦片公烟\n",
      "一时酒遍骚人\n"
     ]
    }
   ],
   "source": [
    "train_fns = [\"couplet/train/in.txt\",\"couplet/train/out.txt\"]\n",
    "u_pinyin_tr, u_char_tr, u_sym_tr, err_tr = collect_char_info(train_fns,char_correct=char_correct)"
   ]
  },
  {
   "cell_type": "code",
   "execution_count": 7,
   "id": "awful-format",
   "metadata": {},
   "outputs": [],
   "source": [
    "# test filenames\n",
    "test_fns =[\"couplet/test/in.txt\",\"couplet/test/out.txt\"]\n",
    "u_pinyin_te, u_char_te, u_sym_te, err_te = collect_char_info(test_fns,char_correct=char_correct)"
   ]
  },
  {
   "cell_type": "code",
   "execution_count": 8,
   "id": "tight-accident",
   "metadata": {},
   "outputs": [
    {
     "name": "stdout",
     "output_type": "stream",
     "text": [
      "Unique pinyin in test: set()\n",
      "Unique Char in test: set()\n",
      "Unique Symbol in test: set()\n",
      "Size of unique pinyin: 9098\n",
      "Size of unique Char: 1286\n",
      "Size of Non Char Symbol: 9\n",
      "Size of Unusual Char: 15\n"
     ]
    },
    {
     "data": {
      "text/plain": [
       "'Num of error Char in train:'"
      ]
     },
     "metadata": {},
     "output_type": "display_data"
    },
    {
     "data": {
      "text/plain": [
       "15"
      ]
     },
     "metadata": {},
     "output_type": "display_data"
    },
    {
     "data": {
      "text/plain": [
       "'\\ue44d \\ue579 \\ue846 \\ue84f \\ue83d \\ue2a5 \\ue828 \\ue829 \\ue494 \\ue467 \\ue82c \\ue4a8 \\ue847 \\ue2b2 \\ue4a3'"
      ]
     },
     "metadata": {},
     "output_type": "display_data"
    },
    {
     "data": {
      "text/plain": [
       "'Num of error Char in test:'"
      ]
     },
     "metadata": {},
     "output_type": "display_data"
    },
    {
     "data": {
      "text/plain": [
       "0"
      ]
     },
     "metadata": {},
     "output_type": "display_data"
    },
    {
     "data": {
      "text/plain": [
       "''"
      ]
     },
     "metadata": {},
     "output_type": "display_data"
    }
   ],
   "source": [
    "print('Unique pinyin in test:',u_pinyin_te.difference(u_pinyin_tr))\n",
    "print('Unique Char in test:',u_char_te.difference(u_char_tr))\n",
    "print('Unique Symbol in test:',u_sym_te.difference(u_sym_tr))\n",
    "print('Size of unique pinyin:',len(u_char_tr))\n",
    "print('Size of unique Char:',len(u_pinyin_tr))\n",
    "print('Size of Non Char Symbol:', len(u_sym_tr))\n",
    "print('Size of Unusual Char:', len(err_tr))\n",
    "display('Num of error Char in train:',len(err_tr))\n",
    "display(' '.join(err_tr))\n",
    "display('Num of error Char in test:',len(err_te))\n",
    "display(' '.join(err_te))"
   ]
  },
  {
   "cell_type": "code",
   "execution_count": 9,
   "id": "elder-carolina",
   "metadata": {},
   "outputs": [
    {
     "data": {
      "text/plain": [
       "7"
      ]
     },
     "execution_count": 9,
     "metadata": {},
     "output_type": "execute_result"
    }
   ],
   "source": [
    "max([len(_) for _ in u_pinyin_tr])"
   ]
  },
  {
   "cell_type": "code",
   "execution_count": 10,
   "id": "primary-photography",
   "metadata": {},
   "outputs": [
    {
     "name": "stdout",
     "output_type": "stream",
     "text": [
      "π\n"
     ]
    }
   ],
   "source": [
    "# Check for improper pinyin translation\n",
    "for i in u_pinyin_tr:\n",
    "    if not re.match(u'^[a-z]+[0-9]{1}[a-z]*$',i):\n",
    "        print(i)"
   ]
  },
  {
   "cell_type": "code",
   "execution_count": 15,
   "id": "devoted-organization",
   "metadata": {},
   "outputs": [
    {
     "data": {
      "text/plain": [
       "1295"
      ]
     },
     "execution_count": 15,
     "metadata": {},
     "output_type": "execute_result"
    }
   ],
   "source": [
    "# Consider all unique Symbol and π as Pinyin \n",
    "# and then intergate with unique pinyin\n",
    "# to create a large pinyin dictionary\n",
    "pinyin2idx = {}\n",
    "# 0 is save for unknow\n",
    "temp = u_pinyin_tr.union(u_sym_tr)\n",
    "# temp.update({'[CLS]', '[SEP]','。'})\n",
    "temp.update({'。'})\n",
    "for i, _ in enumerate(temp,2):\n",
    "    pinyin2idx[_] = i\n",
    "del temp\n",
    "with open('pinyin_map.json','w',encoding='utf-8')as f:\n",
    "    json.dump(pinyin2idx,f)\n",
    "len(pinyin2idx)"
   ]
  },
  {
   "cell_type": "code",
   "execution_count": 16,
   "id": "working-venture",
   "metadata": {},
   "outputs": [
    {
     "data": {
      "text/plain": [
       "9108"
      ]
     },
     "execution_count": 16,
     "metadata": {},
     "output_type": "execute_result"
    }
   ],
   "source": [
    "# Consider all unique Symbol and π as Char \n",
    "# and then intergate with unique Char\n",
    "# to create a large pinyin dictionary\n",
    "char2idx = {}\n",
    "# 0 is save for unknow\n",
    "temp = u_char_tr.union(u_sym_tr)\n",
    "temp.update({'。'})\n",
    "for i, _ in enumerate(temp,2):\n",
    "    char2idx[_] = i\n",
    "del temp\n",
    "with open('char_map.json','w',encoding='utf-8')as f:\n",
    "    json.dump(char2idx,f)\n",
    "len(char2idx)"
   ]
  },
  {
   "cell_type": "markdown",
   "id": "narrow-correction",
   "metadata": {},
   "source": [
    "### Compare with vocab.txt"
   ]
  },
  {
   "cell_type": "code",
   "execution_count": 17,
   "id": "accepting-convergence",
   "metadata": {},
   "outputs": [],
   "source": [
    "err = []\n",
    "unique_pinyin3,unique_char3 =set(),set()\n",
    "trans2pinyin = lambda sent: {_[0] for _ in pinyin(sent,style=Style.TONE2, heteronym=False,neutral_tone_with_five=True)}\n",
    "with open('couplet/vocabs',encoding='utf-8') as f:\n",
    "    for row in f.readlines():\n",
    "        row = row.strip()\n",
    "        if re.match(r'[\\ue2a5-\\ue8f0]+',row):\n",
    "            err.append(row)\n",
    "            continue\n",
    "        if row in char_correct:\n",
    "            row = char_correct[row]\n",
    "        res = trans2pinyin(row)\n",
    "        unique_pinyin3.update(res)\n",
    "        unique_char3.add(row)"
   ]
  },
  {
   "cell_type": "code",
   "execution_count": 18,
   "id": "mechanical-disability",
   "metadata": {},
   "outputs": [
    {
     "data": {
      "text/plain": [
       "{'</s>', '<s>', '。'}"
      ]
     },
     "execution_count": 18,
     "metadata": {},
     "output_type": "execute_result"
    }
   ],
   "source": [
    "unique_char3.difference(u_char_tr).difference(u_sym_tr)"
   ]
  },
  {
   "cell_type": "code",
   "execution_count": 19,
   "id": "flush-confusion",
   "metadata": {},
   "outputs": [
    {
     "data": {
      "text/plain": [
       "{',', '-', '</s>', '<s>', '…', '、', '。', '！', '，', '：', '；', '？'}"
      ]
     },
     "execution_count": 19,
     "metadata": {},
     "output_type": "execute_result"
    }
   ],
   "source": [
    "unique_pinyin3.difference(u_pinyin_tr)"
   ]
  },
  {
   "cell_type": "markdown",
   "id": "varied-retention",
   "metadata": {},
   "source": [
    "# Check the correctness of the Data Set"
   ]
  },
  {
   "cell_type": "code",
   "execution_count": 20,
   "id": "organic-kenya",
   "metadata": {},
   "outputs": [],
   "source": [
    "# train 上联\n",
    "with open(\"couplet/train/in.txt\",encoding='utf8') as f:\n",
    "    tr_in =  [row.strip().split() for row in f.readlines()]\n",
    "# train 下联  \n",
    "with open(\"couplet/train/out.txt\",encoding='utf8') as f:\n",
    "    tr_out = [row.strip().split() for row in f.readlines()]\n",
    "\n",
    "#test\n",
    "with open(\"couplet/test/in.txt\",encoding='utf8') as f:\n",
    "    te_in = [row.strip().split() for row in f.readlines()]\n",
    "with open(\"couplet/test/out.txt\",encoding='utf8') as f:\n",
    "    te_out = [row.strip().split() for row in f.readlines()]"
   ]
  },
  {
   "cell_type": "code",
   "execution_count": 21,
   "id": "amended-livestock",
   "metadata": {},
   "outputs": [],
   "source": [
    "# make sure the length match\n",
    "for i,j in zip(tr_in,tr_out):\n",
    "    if len(i) != len(j):\n",
    "        print(i,j)\n",
    "for i,j in zip(te_in,te_out):\n",
    "    if len(i) != len(j):\n",
    "        print(i,j)"
   ]
  }
 ],
 "metadata": {
  "kernelspec": {
   "display_name": "Python 3",
   "language": "python",
   "name": "python3"
  },
  "language_info": {
   "codemirror_mode": {
    "name": "ipython",
    "version": 3
   },
   "file_extension": ".py",
   "mimetype": "text/x-python",
   "name": "python",
   "nbconvert_exporter": "python",
   "pygments_lexer": "ipython3",
   "version": "3.8.5"
  }
 },
 "nbformat": 4,
 "nbformat_minor": 5
}
