{
 "cells": [
  {
   "cell_type": "markdown",
   "id": "continent-palestinian",
   "metadata": {},
   "source": [
    "__author__ = \"Shihao Lin\"\n",
    "__time__   = \"2021/11/22\"\n",
    "__version__= \"1.0\""
   ]
  },
  {
   "cell_type": "code",
   "execution_count": 1,
   "id": "equal-parliament",
   "metadata": {},
   "outputs": [
    {
     "name": "stdout",
     "output_type": "stream",
     "text": [
      "Collecting pygame\n",
      "  Downloading pygame-2.1.0-cp38-cp38-manylinux_2_17_x86_64.manylinux2014_x86_64.whl (18.3 MB)\n",
      "\u001b[K     |████████████████████████████████| 18.3 MB 17.6 MB/s eta 0:00:01\n",
      "\u001b[?25hInstalling collected packages: pygame\n",
      "Successfully installed pygame-2.1.0\n"
     ]
    }
   ],
   "source": [
    "!pip install pygame"
   ]
  },
  {
   "cell_type": "code",
   "execution_count": 2,
   "id": "located-moisture",
   "metadata": {},
   "outputs": [
    {
     "name": "stdout",
     "output_type": "stream",
     "text": [
      "pygame 2.1.0 (SDL 2.0.16, Python 3.8.5)\n",
      "Hello from the pygame community. https://www.pygame.org/contribute.html\n"
     ]
    },
    {
     "data": {
      "text/plain": [
       "(24, 24)"
      ]
     },
     "execution_count": 2,
     "metadata": {},
     "output_type": "execute_result"
    }
   ],
   "source": [
    "import pygame\n",
    "from pygame.surfarray import array3d\n",
    "import numpy as np\n",
    "# import os\n",
    "# chinese_dir = 'Chinese'\n",
    "# if not os.path.exists(chinese_dir):\n",
    "#     os.mkdir(chinese_dir)\n",
    "pygame.init()\n",
    "font = pygame.font.Font('simfang.ttf',24) #仿宋\n",
    "font.size('双')"
   ]
  },
  {
   "cell_type": "markdown",
   "id": "native-dietary",
   "metadata": {},
   "source": [
    "#### Example of a Char to Glyph"
   ]
  },
  {
   "cell_type": "code",
   "execution_count": 3,
   "id": "unique-audio",
   "metadata": {},
   "outputs": [
    {
     "data": {
      "text/plain": [
       "(576, 1)"
      ]
     },
     "execution_count": 3,
     "metadata": {},
     "output_type": "execute_result"
    }
   ],
   "source": [
    "rtext = font.render('双',True,(0, 0, 0), (255, 255, 255))\n",
    "# pygame.image.save(rtext, os.path.join(chinese_dir,'双'+\".png\"))\n",
    "rtext = array3d(rtext) # shape: 24,24,3\n",
    "\n",
    "tmp = np.zeros((576,1),dtype='float32')\n",
    "for i, rgb in enumerate(rtext.reshape(576,3)):\n",
    "    # Convert rgb [0,0,0] to 1.      \n",
    "    tmp[i] = 1-rgb[0]/255.\n",
    "tmp.shape"
   ]
  },
  {
   "cell_type": "code",
   "execution_count": 9,
   "id": "detailed-opening",
   "metadata": {},
   "outputs": [],
   "source": [
    "import json\n",
    "import numpy as np\n",
    "import pygame\n",
    "from pygame.surfarray import array3d\n",
    "def generate_Glyph_initial_weight(chardict_filepath,font_filepath,font_size=24):\n",
    "    \"\"\"\n",
    "    filepath: path to char_map\n",
    "    return a Glyph Embedding layer weights\n",
    "        line 0 is reserved for special_tokens like [CLS] [PAD] [SEP]\n",
    "        line 1 is reserved for [UNK]\n",
    "    \"\"\"\n",
    "\n",
    "    with open(chardict_filepath,'r',encoding='utf-8') as f:\n",
    "        \n",
    "        pygame.init()\n",
    "        font = pygame.font.Font(font_filepath,font_size) #仿宋\n",
    "        \n",
    "        char2idx = json.load(f)\n",
    "        matrix = np.zeros((len(char2idx)+2,font_size**2),dtype='float32')\n",
    "        matrix[1] = np.random.uniform(-0.1,0.1,font_size**2) # unknown words\n",
    "        \n",
    "        for i, char in enumerate(char2idx.keys(),2):\n",
    "            # shape: font_size,font_size,3\n",
    "            try:\n",
    "\n",
    "                char_array = array3d(font.render(char,True,(0,0,0),(255,255,255)))\n",
    "                # Convert rgb [0,0,0] to 1.\n",
    "                char_array = 1-char_array[:font_size,:font_size,0].reshape(-1)/255\n",
    "                matrix[i][:char_array.shape[0]] = char_array\n",
    "            except:\n",
    "                print(char)\n",
    "    return matrix"
   ]
  },
  {
   "cell_type": "code",
   "execution_count": 12,
   "id": "sunset-humanitarian",
   "metadata": {},
   "outputs": [],
   "source": [
    "matrix = generate_Glyph_initial_weight('data/char_map.json','utils/simfang.ttf')"
   ]
  },
  {
   "cell_type": "code",
   "execution_count": 58,
   "id": "anonymous-character",
   "metadata": {},
   "outputs": [],
   "source": [
    "# font = pygame.font.Font('simfang.ttf',25) #仿宋\n",
    "# a = array3d(font.render('[UNK]',True,(0,0,0),(255,255,255)))"
   ]
  },
  {
   "cell_type": "code",
   "execution_count": 14,
   "id": "affected-accident",
   "metadata": {},
   "outputs": [],
   "source": [
    "font_weights = np.load('data/glyph_weight.npy').astype(np.float32)"
   ]
  },
  {
   "cell_type": "code",
   "execution_count": 13,
   "id": "homeless-worker",
   "metadata": {},
   "outputs": [
    {
     "data": {
      "text/plain": [
       "(9110, 576)"
      ]
     },
     "execution_count": 13,
     "metadata": {},
     "output_type": "execute_result"
    }
   ],
   "source": [
    "matrix.shape"
   ]
  },
  {
   "cell_type": "code",
   "execution_count": 15,
   "id": "interim-stocks",
   "metadata": {},
   "outputs": [
    {
     "data": {
      "text/plain": [
       "(9110, 576)"
      ]
     },
     "execution_count": 15,
     "metadata": {},
     "output_type": "execute_result"
    }
   ],
   "source": [
    "font_weights.shape"
   ]
  },
  {
   "cell_type": "code",
   "execution_count": 6,
   "id": "invalid-respondent",
   "metadata": {},
   "outputs": [],
   "source": [
    "np.save('glyph_weight',matrix)"
   ]
  }
 ],
 "metadata": {
  "kernelspec": {
   "display_name": "Python 3",
   "language": "python",
   "name": "python3"
  },
  "language_info": {
   "codemirror_mode": {
    "name": "ipython",
    "version": 3
   },
   "file_extension": ".py",
   "mimetype": "text/x-python",
   "name": "python",
   "nbconvert_exporter": "python",
   "pygments_lexer": "ipython3",
   "version": "3.8.5"
  }
 },
 "nbformat": 4,
 "nbformat_minor": 5
}
