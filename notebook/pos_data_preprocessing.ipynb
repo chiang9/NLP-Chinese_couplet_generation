{
 "cells": [
  {
   "cell_type": "code",
   "execution_count": 1,
   "id": "f1f22c38-84fc-464f-8fcb-4dae93642fdf",
   "metadata": {},
   "outputs": [],
   "source": [
    "import torch\n",
    "from torch import nn\n",
    "from torch.nn.utils.rnn import pad_sequence\n",
    "\n",
    "import numpy as np\n",
    "import pandas as pd\n",
    "import jieba\n",
    "import jieba.posseg as pseg\n",
    "from joblib import Parallel, delayed\n",
    "from tqdm import tqdm\n",
    "\n",
    "from preprocessing import *"
   ]
  },
  {
   "cell_type": "markdown",
   "id": "910b1437-9db5-40a4-80c6-589b55010bc8",
   "metadata": {},
   "source": [
    "### Generate pos array pt file"
   ]
  },
  {
   "cell_type": "code",
   "execution_count": 12,
   "id": "aedd5c70-c3bd-42ab-8973-369195d8d45e",
   "metadata": {},
   "outputs": [],
   "source": [
    "tr_in = pd.read_csv(\"couplet/train/out.txt\", sep = '@',encoding='utf8', header = None)"
   ]
  },
  {
   "cell_type": "code",
   "execution_count": 14,
   "id": "375963f0-22d1-49b4-8564-5b944120bf8f",
   "metadata": {},
   "outputs": [
    {
     "name": "stdout",
     "output_type": "stream",
     "text": [
      "length of data = 770491\n",
      "['晨 露 润 花 花 更 红 ' '万 方 乐 奏 有 于 阗 ' '绿 柳 堤 新 燕 复 来 ']\n"
     ]
    }
   ],
   "source": [
    "data = tr_in[0].values\n",
    "print(f'length of data = {len(data)}')\n",
    "print(data[0:3])"
   ]
  },
  {
   "cell_type": "code",
   "execution_count": 15,
   "id": "c94e00f5-1517-4802-aa32-24e8399c96b3",
   "metadata": {
    "tags": []
   },
   "outputs": [
    {
     "name": "stderr",
     "output_type": "stream",
     "text": [
      "100%|████████████████████████████████████████████████████████████████████████| 770491/770491 [09:31<00:00, 1348.17it/s]\n"
     ]
    }
   ],
   "source": [
    "tag_data = generate_pos_tagging(data)"
   ]
  },
  {
   "cell_type": "code",
   "execution_count": 16,
   "id": "f148c7b2-930d-45bd-97fd-21b44a8ccd81",
   "metadata": {},
   "outputs": [],
   "source": [
    "import pickle \n",
    "\n",
    "with open(\"train_out_pos.pt\",'wb') as f:\n",
    "    pickle.dump(tag_data, f)\n"
   ]
  },
  {
   "cell_type": "markdown",
   "id": "62df9e25-d2c6-43bc-8bbf-e65f261b610b",
   "metadata": {},
   "source": [
    "### Model"
   ]
  },
  {
   "cell_type": "code",
   "execution_count": 25,
   "id": "ea5495d8-0154-4726-8e8a-1646fb4512a2",
   "metadata": {},
   "outputs": [],
   "source": [
    "class Pos_Embedding(nn.Module):\n",
    "    def __init__(self, tag_size, emb_size):\n",
    "        super(Pos_Embedding, self).__init__()\n",
    "        self.pos_embedding = nn.Embedding(tag_size, emb_size, padding_idx = 0)\n",
    "    \n",
    "    def forward(self, x):\n",
    "        x = self.pos_embedding(x)"
   ]
  },
  {
   "cell_type": "markdown",
   "id": "961f2a0c-d620-4e05-b99f-f980db5543c1",
   "metadata": {},
   "source": [
    "### load pos tag into torch tensor"
   ]
  },
  {
   "cell_type": "code",
   "execution_count": 2,
   "id": "6a619696-7a50-4fcc-a6a5-a90d7c973c67",
   "metadata": {},
   "outputs": [],
   "source": [
    "tag_tensor = load_pos_tag_tensor_emb(\"train_out_pos.pt\")"
   ]
  },
  {
   "cell_type": "code",
   "execution_count": 3,
   "id": "200624ff-8ab2-4bb1-b350-b58be447abe5",
   "metadata": {},
   "outputs": [
    {
     "data": {
      "text/plain": [
       "torch.Size([770491, 34])"
      ]
     },
     "execution_count": 3,
     "metadata": {},
     "output_type": "execute_result"
    }
   ],
   "source": [
    "tag_tensor.size()"
   ]
  },
  {
   "cell_type": "code",
   "execution_count": null,
   "id": "6d1f808a-cc12-4203-85a9-a36dfc44ce3b",
   "metadata": {},
   "outputs": [],
   "source": []
  }
 ],
 "metadata": {
  "kernelspec": {
   "display_name": "Python 3",
   "language": "python",
   "name": "python3"
  },
  "language_info": {
   "codemirror_mode": {
    "name": "ipython",
    "version": 3
   },
   "file_extension": ".py",
   "mimetype": "text/x-python",
   "name": "python",
   "nbconvert_exporter": "python",
   "pygments_lexer": "ipython3",
   "version": "3.6.13"
  }
 },
 "nbformat": 4,
 "nbformat_minor": 5
}
