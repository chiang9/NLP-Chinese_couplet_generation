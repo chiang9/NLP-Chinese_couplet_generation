{
 "cells": [
  {
   "cell_type": "code",
   "execution_count": 1,
   "id": "f1f22c38-84fc-464f-8fcb-4dae93642fdf",
   "metadata": {},
   "outputs": [],
   "source": [
    "import sys\n",
    "sys.path.append(\"../\")\n",
    "\n",
    "import torch\n",
    "from torch import nn\n",
    "from transformers import BertTokenizer, BertModel, BertForMaskedLM\n",
    "import numpy as np\n",
    "import pandas as pd\n",
    "\n",
    "from preprocessing import preprocessing"
   ]
  },
  {
   "cell_type": "code",
   "execution_count": 2,
   "id": "aedd5c70-c3bd-42ab-8973-369195d8d45e",
   "metadata": {},
   "outputs": [],
   "source": [
    "# Data Exploration\n",
    "\n",
    "tr_in = pd.read_csv(\"../couplet/train/in.txt\",encoding='utf8', header = None)"
   ]
  },
  {
   "cell_type": "code",
   "execution_count": 3,
   "id": "52b49f49-4ea7-4926-b4c1-664fdc5b9a93",
   "metadata": {},
   "outputs": [
    {
     "name": "stderr",
     "output_type": "stream",
     "text": [
      "Some weights of the model checkpoint at bert-base-chinese were not used when initializing BertModel: ['cls.predictions.transform.LayerNorm.weight', 'cls.predictions.transform.LayerNorm.bias', 'cls.seq_relationship.bias', 'cls.predictions.transform.dense.weight', 'cls.predictions.decoder.weight', 'cls.seq_relationship.weight', 'cls.predictions.bias', 'cls.predictions.transform.dense.bias']\n",
      "- This IS expected if you are initializing BertModel from the checkpoint of a model trained on another task or with another architecture (e.g. initializing a BertForSequenceClassification model from a BertForPreTraining model).\n",
      "- This IS NOT expected if you are initializing BertModel from the checkpoint of a model that you expect to be exactly identical (initializing a BertForSequenceClassification model from a BertForSequenceClassification model).\n"
     ]
    }
   ],
   "source": [
    "bert_tokenizer = BertTokenizer.from_pretrained('bert-base-chinese') \n",
    "model = BertModel.from_pretrained('bert-base-chinese', output_hidden_states = True)"
   ]
  },
  {
   "cell_type": "code",
   "execution_count": 4,
   "id": "375963f0-22d1-49b4-8564-5b944120bf8f",
   "metadata": {},
   "outputs": [
    {
     "name": "stdout",
     "output_type": "stream",
     "text": [
      "length of data = 770491\n",
      "['晚 风 摇 树 树 还 挺 ' '愿 景 天 成 无 墨 迹 ' '丹 枫 江 冷 人 初 去 ']\n"
     ]
    }
   ],
   "source": [
    "preprocessor = preprocessing()\n",
    "\n",
    "data = tr_in[0].values\n",
    "print(f'length of data = {len(data)}')\n",
    "print(data[0:3])"
   ]
  },
  {
   "cell_type": "code",
   "execution_count": 7,
   "id": "c5a1ee0a-dea2-410b-8e64-99a8670c9fa2",
   "metadata": {},
   "outputs": [],
   "source": [
    "target_word_embeddings = []\n",
    "        \n",
    "for text in data[0:3]:\n",
    "    tokenized_text, tokens_tensor, segments_tensors = preprocessor.bert_text_preparation(text, bert_tokenizer)\n",
    "    list_token_embeddings = preprocessor.get_bert_embeddings(tokens_tensor, segments_tensors, model)\n",
    "\n",
    "    target_word_embeddings.append(np.array(list_token_embeddings))"
   ]
  },
  {
   "cell_type": "code",
   "execution_count": 9,
   "id": "5efc6a60-2fb1-4ba2-b491-68331ff68d66",
   "metadata": {},
   "outputs": [
    {
     "name": "stdout",
     "output_type": "stream",
     "text": [
      "index = 0\n",
      "(9, 768)\n",
      "index = 1\n",
      "(9, 768)\n",
      "index = 2\n",
      "(9, 768)\n"
     ]
    }
   ],
   "source": [
    "for i, emb in enumerate(target_word_embeddings):\n",
    "    print(f'index = {i}')\n",
    "    print(emb.shape)"
   ]
  },
  {
   "cell_type": "code",
   "execution_count": null,
   "id": "e87db883-24de-44d2-ab50-f89d611a69ce",
   "metadata": {},
   "outputs": [],
   "source": []
  }
 ],
 "metadata": {
  "kernelspec": {
   "display_name": "Python 3",
   "language": "python",
   "name": "python3"
  },
  "language_info": {
   "codemirror_mode": {
    "name": "ipython",
    "version": 3
   },
   "file_extension": ".py",
   "mimetype": "text/x-python",
   "name": "python",
   "nbconvert_exporter": "python",
   "pygments_lexer": "ipython3",
   "version": "3.6.13"
  }
 },
 "nbformat": 4,
 "nbformat_minor": 5
}
