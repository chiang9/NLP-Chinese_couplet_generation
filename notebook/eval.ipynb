{
 "cells": [
  {
   "cell_type": "code",
   "execution_count": 2,
   "id": "ee3d3f7f",
   "metadata": {},
   "outputs": [],
   "source": [
    "import sys\n",
    "sys.path.append(\"../\")\n",
    "\n",
    "from nltk.translate.bleu_score import SmoothingFunction\n",
    "from nltk.translate import bleu\n",
    "import numpy as np\n",
    "from collections import Counter\n",
    "import nltk\n",
    "from nltk.lm.preprocessing import pad_both_ends, padded_everygram_pipeline\n",
    "from nltk.lm.models import Laplace\n",
    "from nltk.lm import Vocabulary\n",
    "\n",
    "from utils.evaluation import *\n",
    "import pickle\n"
   ]
  },
  {
   "cell_type": "code",
   "execution_count": 5,
   "id": "cc3f884e",
   "metadata": {},
   "outputs": [],
   "source": [
    "with open(\"../couplet/test/out.txt\", encoding = 'utf8') as f:\n",
    "    gold = [line.strip().replace(\" \",\"\")  for line in f.readlines()]\n",
    "with open(\"../couplet/test/in.txt\", encoding = 'utf8') as f:\n",
    "    te_in = [line.strip().replace(\" \",\"\")  for line in f.readlines()]"
   ]
  },
  {
   "cell_type": "code",
   "execution_count": 6,
   "id": "910fee4b-c901-4479-8239-8304aba2e1f4",
   "metadata": {},
   "outputs": [],
   "source": [
    "with open(\"../result/anchi_de_Adam_128_0001_10_60_6_51k_predict.txt\", encoding = 'utf8') as f:\n",
    "    pred_anchi_de = [line.strip() for line in f.readlines()]\n",
    "with open(\"../result/anchi_tra_Adam_128_00005_60_6_6_51k_predict.txt\", encoding = 'utf8') as f:\n",
    "    pred_anchi_trans = [line.strip() for line in f.readlines()]\n",
    "with open(\"../result/fu_anchi_de_Adam_128_0001_60_6_30_10_51k_predict.txt\", encoding = 'utf8') as f:\n",
    "    pred_fu_de = [line.strip() for line in f.readlines()]\n",
    "with open(\"../result/fu_anchi_tra_Adam_128_2e-5_60_30_10_6_6_51k_predict.txt\", encoding = 'utf8') as f:\n",
    "    pred_fu_trans = [line.strip() for line in f.readlines()]\n"
   ]
  },
  {
   "cell_type": "markdown",
   "id": "b09c367c-829e-4cd9-b937-24b21e3f17ca",
   "metadata": {},
   "source": [
    "## Evaluation Usage"
   ]
  },
  {
   "cell_type": "code",
   "execution_count": 7,
   "id": "f142c7a4-c565-4eef-8f01-85fae74750b7",
   "metadata": {},
   "outputs": [],
   "source": [
    "anchi_de_score = evaluate_pred(gold, pred_anchi_de, '../result/perplexity_model.pt')\n",
    "anchi_tra_score = evaluate_pred(gold, pred_anchi_trans, '../result/perplexity_model.pt')\n",
    "fu_de_score = evaluate_pred(gold, pred_fu_de, '../result/perplexity_model.pt')\n",
    "fu_tra_score = evaluate_pred(gold, pred_fu_trans, '../result/perplexity_model.pt')"
   ]
  },
  {
   "cell_type": "code",
   "execution_count": 8,
   "id": "84a2219f-4fb0-458f-85fb-96aa98b39af8",
   "metadata": {},
   "outputs": [
    {
     "name": "stdout",
     "output_type": "stream",
     "text": [
      "Evaluation\n",
      "Anchi Decoder = (0.10300786662046284, 485.0909119336974)\n",
      "Anchi trans = (0.10123743287586574, 496.2477423025078)\n",
      "Fusion Decoder = (0.1054882852113482, 274.6597359979105)\n",
      "Fusion Trans = (0.1031091855045886, 282.17603227194394)\n"
     ]
    }
   ],
   "source": [
    "print(f'Evaluation')\n",
    "print(f'Anchi Decoder = {anchi_de_score}')\n",
    "print(f'Anchi trans = {anchi_tra_score}')\n",
    "\n",
    "print(f'Fusion Decoder = {fu_de_score}')\n",
    "print(f'Fusion Trans = {fu_tra_score}')"
   ]
  },
  {
   "cell_type": "code",
   "execution_count": null,
   "id": "0fcd2205-b04d-4ec4-9cdb-2feae69d266c",
   "metadata": {},
   "outputs": [],
   "source": []
  }
 ],
 "metadata": {
  "kernelspec": {
   "display_name": "Python 3",
   "language": "python",
   "name": "python3"
  },
  "language_info": {
   "codemirror_mode": {
    "name": "ipython",
    "version": 3
   },
   "file_extension": ".py",
   "mimetype": "text/x-python",
   "name": "python",
   "nbconvert_exporter": "python",
   "pygments_lexer": "ipython3",
   "version": "3.6.13"
  }
 },
 "nbformat": 4,
 "nbformat_minor": 5
}
