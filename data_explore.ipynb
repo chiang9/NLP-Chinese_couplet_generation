{
 "cells": [
  {
   "cell_type": "markdown",
   "id": "5722fe8e-feb6-46be-859f-c1d6461ac7a4",
   "metadata": {},
   "source": [
    "# CICS544 Final Project: Chinese Couplets Generation"
   ]
  },
  {
   "cell_type": "code",
   "execution_count": 1,
   "id": "944d2227-b837-4cee-8440-d924f391b948",
   "metadata": {},
   "outputs": [],
   "source": [
    "import pandas as pd\n",
    "import numpy as np"
   ]
  },
  {
   "cell_type": "code",
   "execution_count": 2,
   "id": "1c6c3593-53a6-413a-8ad7-8a9c0b06bc59",
   "metadata": {},
   "outputs": [],
   "source": [
    "# data reading @author: Joe Chen\n",
    "\n",
    "# adding start token <s> and end_token <e> to each row\n",
    "# spliting each chinese character (word segmentation)\n",
    "# data structure: data = [[w11,w12,...],[w21,w22,...], ....]\n",
    "\n",
    "# train 上联\n",
    "with open(\"couplet/train/in.txt\",encoding='utf8') as f:\n",
    "    tr_in =  [('<s> ' + row.strip() + ' <e>').split() for row in f.readlines()]\n",
    "# train 下联  \n",
    "with open(\"couplet/train/out.txt\",encoding='utf8') as f:\n",
    "    tr_out = [('<s> ' + row.strip() + ' <e>').split() for row in f.readlines()]\n",
    "\n",
    "#test\n",
    "with open(\"couplet/test/in.txt\",encoding='utf8') as f:\n",
    "    te_in = [('<s> ' + row.strip() + ' <e>').split() for row in f.readlines()]\n",
    "with open(\"couplet/test/out.txt\",encoding='utf8') as f:\n",
    "    te_out = [('<s> ' + row.strip() + ' <e>').split() for row in f.readlines()]"
   ]
  },
  {
   "cell_type": "code",
   "execution_count": 3,
   "id": "00b11657-50cd-40c6-9d63-767e6752fe52",
   "metadata": {},
   "outputs": [
    {
     "data": {
      "text/plain": [
       "[['<s>', '晚', '风', '摇', '树', '树', '还', '挺', '<e>'],\n",
       " ['<s>', '愿', '景', '天', '成', '无', '墨', '迹', '<e>']]"
      ]
     },
     "execution_count": 3,
     "metadata": {},
     "output_type": "execute_result"
    }
   ],
   "source": [
    "# first two rows in training input\n",
    "tr_in[:2]"
   ]
  },
  {
   "cell_type": "code",
   "execution_count": 4,
   "id": "c856a95e-67e0-4a4a-9e2c-7e885de8805f",
   "metadata": {},
   "outputs": [],
   "source": [
    "# flatten each dataset for word vector training and vocabulary building\n",
    "tr_in_flat = [i for x in tr_in for i in x]\n",
    "tr_out_flat = [i for x in tr_out for i in x]\n",
    "te_in_flat = [i for x in te_in for i in x]\n",
    "te_out_flat = [i for x in te_out for i in x]"
   ]
  },
  {
   "cell_type": "code",
   "execution_count": 5,
   "id": "56899e2f-efb3-4811-a89d-f49b9a98776e",
   "metadata": {},
   "outputs": [
    {
     "data": {
      "text/plain": [
       "['<s>',\n",
       " '晚',\n",
       " '风',\n",
       " '摇',\n",
       " '树',\n",
       " '树',\n",
       " '还',\n",
       " '挺',\n",
       " '<e>',\n",
       " '<s>',\n",
       " '愿',\n",
       " '景',\n",
       " '天',\n",
       " '成',\n",
       " '无',\n",
       " '墨',\n",
       " '迹',\n",
       " '<e>']"
      ]
     },
     "execution_count": 5,
     "metadata": {},
     "output_type": "execute_result"
    }
   ],
   "source": [
    "# first two rows in training input after flatten\n",
    "tr_in_flat[:18]"
   ]
  },
  {
   "cell_type": "code",
   "execution_count": 6,
   "id": "8ea34b76-bf20-4a34-b194-bd6df3fb7fa9",
   "metadata": {},
   "outputs": [],
   "source": [
    "# training word2vec embeddings using gensim\n",
    "from gensim.models import Word2Vec"
   ]
  },
  {
   "cell_type": "code",
   "execution_count": 8,
   "id": "cca81992-f5eb-4dfc-a014-701aaace1896",
   "metadata": {},
   "outputs": [],
   "source": [
    "sentences = tr_in_flat + tr_out_flat + te_in_flat + te_out_flat\n",
    "model = Word2Vec(sentences = tr_out,vector_size=100, window=10, min_count=10, workers=4)"
   ]
  },
  {
   "cell_type": "code",
   "execution_count": 9,
   "id": "39fa38d1-25d9-4582-8ce5-4d811a5b258f",
   "metadata": {},
   "outputs": [
    {
     "data": {
      "text/plain": [
       "[('新', 0.42505815625190735),\n",
       " ('欣', 0.40011340379714966),\n",
       " ('曙', 0.37929314374923706),\n",
       " ('千', 0.37075915932655334),\n",
       " ('园', 0.3696725070476532),\n",
       " ('<s>', 0.36914631724357605),\n",
       " ('花', 0.3633737564086914),\n",
       " ('栉', 0.362592875957489),\n",
       " ('煦', 0.3612635135650635),\n",
       " ('，', 0.35984164476394653)]"
      ]
     },
     "execution_count": 9,
     "metadata": {},
     "output_type": "execute_result"
    }
   ],
   "source": [
    "#testing 可以试试别的词\n",
    "model.wv.most_similar('春')"
   ]
  },
  {
   "cell_type": "code",
   "execution_count": 12,
   "id": "adcf7520-131e-4342-bfd0-97cf4d820e35",
   "metadata": {},
   "outputs": [],
   "source": [
    "#combining word tokens for vocab\n",
    "vocab = set(tr_in_flat + tr_out_flat + te_in_flat + te_out_flat)\n",
    "# remove start/end tokens since they need to be at first 2 indece when creating word2id\n",
    "vocab.remove('<s>')\n",
    "vocab.remove('<e>')\n",
    "\n",
    "# creating word2id lookup dictionary\n",
    "word2id = {w:i for i,w in enumerate(vocab,start=2)}\n",
    "word2id['<s>'] = 0\n",
    "word2id['<e>'] = 1\n",
    "\n",
    "id2word = {i:w for w,i in word2id.items()}"
   ]
  },
  {
   "cell_type": "code",
   "execution_count": 13,
   "id": "74c04734-bdd6-4ef2-b70f-388b8234ae63",
   "metadata": {},
   "outputs": [
    {
     "data": {
      "text/plain": [
       "['<s>', '<e>', '嗦', '烈', '隄', '馂', '学', '咪', '醁', '掼']"
      ]
     },
     "execution_count": 13,
     "metadata": {},
     "output_type": "execute_result"
    }
   ],
   "source": [
    "# first 10 words in lookup dictionary\n",
    "[id2word[i] for i in range(10)]"
   ]
  },
  {
   "cell_type": "code",
   "execution_count": 14,
   "id": "7e1ab149-9996-4d48-9bdb-05e1b8c627da",
   "metadata": {},
   "outputs": [
    {
     "data": {
      "text/plain": [
       "(770491, 4000, 9129)"
      ]
     },
     "execution_count": 14,
     "metadata": {},
     "output_type": "execute_result"
    }
   ],
   "source": [
    "# size of data and vocab\n",
    "len(tr_in),len(te_in),len(word2id)"
   ]
  },
  {
   "cell_type": "code",
   "execution_count": null,
   "id": "65859b7e-5629-4522-957c-31ca58887bd2",
   "metadata": {},
   "outputs": [],
   "source": []
  }
 ],
 "metadata": {
  "kernelspec": {
   "display_name": "Python 3",
   "language": "python",
   "name": "python3"
  },
  "language_info": {
   "codemirror_mode": {
    "name": "ipython",
    "version": 3
   },
   "file_extension": ".py",
   "mimetype": "text/x-python",
   "name": "python",
   "nbconvert_exporter": "python",
   "pygments_lexer": "ipython3",
   "version": "3.8.8"
  }
 },
 "nbformat": 4,
 "nbformat_minor": 5
}
